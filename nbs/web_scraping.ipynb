{
 "cells": [
  {
   "cell_type": "markdown",
   "metadata": {},
   "source": [
    "## 985 211 list"
   ]
  },
  {
   "cell_type": "code",
   "execution_count": 1,
   "metadata": {
    "collapsed": true
   },
   "outputs": [],
   "source": [
    "from bs4 import BeautifulSoup\n",
    "import requests"
   ]
  },
  {
   "cell_type": "code",
   "execution_count": 14,
   "metadata": {
    "collapsed": true
   },
   "outputs": [],
   "source": [
    "import contextlib"
   ]
  },
  {
   "cell_type": "code",
   "execution_count": 42,
   "metadata": {
    "collapsed": true
   },
   "outputs": [],
   "source": [
    "import pickle"
   ]
  },
  {
   "cell_type": "code",
   "execution_count": 2,
   "metadata": {
    "collapsed": true
   },
   "outputs": [],
   "source": [
    "webpage = \"https://www.applyto.com/node/99\""
   ]
  },
  {
   "cell_type": "code",
   "execution_count": 3,
   "metadata": {
    "collapsed": true
   },
   "outputs": [],
   "source": [
    "contents = requests.get(webpage)"
   ]
  },
  {
   "cell_type": "code",
   "execution_count": 6,
   "metadata": {
    "collapsed": true
   },
   "outputs": [],
   "source": [
    "soup = BeautifulSoup(contents.text)"
   ]
  },
  {
   "cell_type": "code",
   "execution_count": 24,
   "metadata": {
    "collapsed": true
   },
   "outputs": [],
   "source": [
    "school_list = []\n",
    "for row in soup.find_all(\"td\"):\n",
    "    if not row.find('p'):\n",
    "        with contextlib.suppress(KeyError):\n",
    "            school_list.append(row.attrs['data-sheets-value'].split(\":\")[-1].replace('\"','').replace('}', ''))"
   ]
  },
  {
   "cell_type": "code",
   "execution_count": 26,
   "metadata": {
    "collapsed": true
   },
   "outputs": [],
   "source": [
    "school_list = [item for item in school_list if '所' not in item]"
   ]
  },
  {
   "cell_type": "code",
   "execution_count": 33,
   "metadata": {
    "collapsed": true
   },
   "outputs": [],
   "source": [
    "school_211 = school_list[1:school_list.index('“985”工程大学名单')]\n",
    "school_985 = school_list[school_list.index('“985”工程大学名单') + 1:]"
   ]
  },
  {
   "cell_type": "code",
   "execution_count": 38,
   "metadata": {
    "collapsed": true
   },
   "outputs": [],
   "source": [
    "school_211 = [item.split(\"(\")[0] for item in school_211]"
   ]
  },
  {
   "cell_type": "code",
   "execution_count": 43,
   "metadata": {
    "collapsed": true
   },
   "outputs": [],
   "source": [
    "with open('211.pickle', 'wb') as f:\n",
    "    pickle.dump(school_211, f)"
   ]
  },
  {
   "cell_type": "code",
   "execution_count": 44,
   "metadata": {
    "collapsed": true
   },
   "outputs": [],
   "source": [
    "with open('985.pickle', 'wb') as f:\n",
    "    pickle.dump(school_985, f)"
   ]
  },
  {
   "cell_type": "code",
   "execution_count": null,
   "metadata": {
    "collapsed": true
   },
   "outputs": [],
   "source": []
  },
  {
   "cell_type": "code",
   "execution_count": null,
   "metadata": {
    "collapsed": true
   },
   "outputs": [],
   "source": []
  },
  {
   "cell_type": "code",
   "execution_count": 50,
   "metadata": {
    "collapsed": true
   },
   "outputs": [],
   "source": [
    "wp = \"https://www.compassedu.hk/class_t6p1\""
   ]
  },
  {
   "cell_type": "code",
   "execution_count": 52,
   "metadata": {
    "collapsed": true
   },
   "outputs": [],
   "source": [
    "import urllib3\n",
    "requests.packages.urllib3.util.ssl_.DEFAULT_CIPHERS = 'ALL:@SECLEVEL=1'"
   ]
  },
  {
   "cell_type": "code",
   "execution_count": 91,
   "metadata": {
    "collapsed": true
   },
   "outputs": [],
   "source": [
    "import time"
   ]
  },
  {
   "cell_type": "code",
   "execution_count": 109,
   "metadata": {
    "collapsed": true
   },
   "outputs": [],
   "source": [
    "from tqdm import tqdm"
   ]
  },
  {
   "cell_type": "code",
   "execution_count": 189,
   "metadata": {
    "collapsed": true
   },
   "outputs": [],
   "source": [
    "def scrape_zhinanzhe_majors(wp, starting_page, total_pages):\n",
    "    majors = []\n",
    "    for i in tqdm(range(starting_page, total_pages + 1)):\n",
    "        try:\n",
    "            _wp = wp + str(i)\n",
    "            # print(wp)\n",
    "            contents = requests.get(_wp)\n",
    "            soup = BeautifulSoup(contents.text)\n",
    "            s = soup.find_all('section')[-1] # search results that matter to us\n",
    "            items = s.find_all('a')\n",
    "            # print(len(items))\n",
    "            for item in items:\n",
    "                major_ch_name = item.find('div', attrs = 'cname').contents[0]\n",
    "                major_en_name = item.find('div', attrs='ename line-1').contents[0]\n",
    "                major_url = item.attrs['href']\n",
    "                major_ranking = item.find('div', attrs='sort').contents[0]\n",
    "                all_tags = item.find_all('div', attrs = 'tag-item')\n",
    "                all_tags_content = [c.contents[0] for c in all_tags]\n",
    "                majors.append(Major(major_en_name, major_ch_name, major_url, major_ranking, all_tags_content))\n",
    "            time.sleep(5)\n",
    "        except Exception as e:\n",
    "            print(e)\n",
    "    return majors"
   ]
  },
  {
   "cell_type": "code",
   "execution_count": 190,
   "metadata": {},
   "outputs": [
    {
     "name": "stderr",
     "output_type": "stream",
     "text": [
      " 26%|██████████▏                             | 73/286 [11:35<1:35:28, 26.90s/it]"
     ]
    },
    {
     "name": "stdout",
     "output_type": "stream",
     "text": [
      "list index out of range\n"
     ]
    },
    {
     "name": "stderr",
     "output_type": "stream",
     "text": [
      "100%|█████████████████████████████████████████| 286/286 [43:15<00:00,  9.07s/it]\n"
     ]
    }
   ],
   "source": [
    "res = scrape_zhinanzhe_majors(\"https://www.compassedu.hk/class_p\", 1, 286)"
   ]
  },
  {
   "cell_type": "code",
   "execution_count": 197,
   "metadata": {},
   "outputs": [],
   "source": [
    "import sys\n",
    "sys.setrecursionlimit(10000)"
   ]
  },
  {
   "cell_type": "code",
   "execution_count": 194,
   "metadata": {},
   "outputs": [],
   "source": [
    "import pickle"
   ]
  },
  {
   "cell_type": "code",
   "execution_count": 198,
   "metadata": {},
   "outputs": [],
   "source": [
    "with open('majors.pkl', 'wb') as f:\n",
    "    pickle.dump(res, f)"
   ]
  },
  {
   "cell_type": "code",
   "execution_count": 202,
   "metadata": {},
   "outputs": [
    {
     "data": {
      "text/plain": [
       "8524"
      ]
     },
     "execution_count": 202,
     "metadata": {},
     "output_type": "execute_result"
    }
   ],
   "source": [
    "len(res)"
   ]
  },
  {
   "cell_type": "code",
   "execution_count": 205,
   "metadata": {},
   "outputs": [],
   "source": [
    "import pandas as pd"
   ]
  },
  {
   "cell_type": "code",
   "execution_count": 208,
   "metadata": {
    "collapsed": true
   },
   "outputs": [],
   "source": [
    "major_df = pd.DataFrame(columns=['en_name', 'ch_name', 'url', 'ranking', 'area'])"
   ]
  },
  {
   "cell_type": "code",
   "execution_count": 217,
   "metadata": {},
   "outputs": [],
   "source": [
    "res_list = [(row.en_name, row.ch_name, row.url, row.ranking, ' '.join(row.tag)) for row in res]"
   ]
  },
  {
   "cell_type": "code",
   "execution_count": 220,
   "metadata": {},
   "outputs": [],
   "source": [
    "major_df = pd.DataFrame(res_list, columns=['en_name', 'ch_name', 'url', 'ranking', 'area'])"
   ]
  },
  {
   "cell_type": "code",
   "execution_count": 222,
   "metadata": {},
   "outputs": [],
   "source": [
    "major_df.to_csv(\"专业名称及排名.csv\", index=None)"
   ]
  },
  {
   "cell_type": "code",
   "execution_count": null,
   "metadata": {
    "collapsed": true
   },
   "outputs": [],
   "source": [
    "with open('mypickle.pickle', 'wb') as f:\n",
    "    pickle.dump(some_obj, f)"
   ]
  },
  {
   "cell_type": "code",
   "execution_count": 87,
   "metadata": {
    "collapsed": true
   },
   "outputs": [],
   "source": [
    "from dataclasses import dataclass"
   ]
  },
  {
   "cell_type": "code",
   "execution_count": 105,
   "metadata": {
    "collapsed": true
   },
   "outputs": [],
   "source": [
    "@dataclass\n",
    "class Major:\n",
    "    en_name: str\n",
    "    ch_name: str\n",
    "    url: str\n",
    "    ranking: str\n",
    "    tag: list"
   ]
  },
  {
   "cell_type": "markdown",
   "metadata": {},
   "source": [
    "# Scrape each major"
   ]
  },
  {
   "cell_type": "code",
   "execution_count": 224,
   "metadata": {
    "collapsed": true
   },
   "outputs": [],
   "source": [
    "wp = \"https://www.compassedu.hk/majr_1747\""
   ]
  },
  {
   "cell_type": "code",
   "execution_count": 225,
   "metadata": {
    "collapsed": true
   },
   "outputs": [],
   "source": [
    "contents = requests.get(wp)"
   ]
  },
  {
   "cell_type": "code",
   "execution_count": 226,
   "metadata": {
    "collapsed": true
   },
   "outputs": [],
   "source": [
    "soup = BeautifulSoup(contents.text)"
   ]
  },
  {
   "cell_type": "code",
   "execution_count": 250,
   "metadata": {
    "collapsed": true
   },
   "outputs": [],
   "source": [
    "@dataclass\n",
    "class MajorDetails:\n",
    "    area: str\n",
    "    area_ranking: int\n",
    "    entrance_time: str\n",
    "    project_length: str\n",
    "    tuition: str\n",
    "    url: str"
   ]
  },
  {
   "cell_type": "code",
   "execution_count": null,
   "metadata": {
    "collapsed": true
   },
   "outputs": [],
   "source": [
    "#major_details = []"
   ]
  },
  {
   "cell_type": "code",
   "execution_count": 260,
   "metadata": {},
   "outputs": [
    {
     "name": "stderr",
     "output_type": "stream",
     "text": [
      "100%|█████████████████████████████████████| 2005/2005 [1:36:36<00:00,  2.89s/it]\n"
     ]
    }
   ],
   "source": [
    "base_url = 'https://www.compassedu.hk'\n",
    "\n",
    "for i in tqdm(range(6519, len(major_df))):\n",
    "    try:\n",
    "        url = base_url + major_df.iloc[i]['url']\n",
    "        contents = requests.get(url)\n",
    "        soup = BeautifulSoup(contents.text)\n",
    "        for item in soup.find_all('div', attrs='project-item'):\n",
    "            if item.find_next('div').contents[0] == '专业方向':\n",
    "                area = item.find_all('div')[-1].contents[0]\n",
    "            if item.find_next('div').contents[0] == '专业排名':\n",
    "                area_ranking = item.find_all('div')[-1].contents[0]\n",
    "            if item.find_next('div').contents[0] == '入学时间':\n",
    "                entrance_time = item.find_all('div')[-1].contents[0]\n",
    "            if item.find_next('div').contents[0] == '项目时长':\n",
    "                project_length = item.find_all('div')[-1].contents[0]\n",
    "            if item.find_next('div').contents[0] == '项目学费':\n",
    "                tuition = item.find_all('div')[-1].contents[0]\n",
    "        major_detail = MajorDetails(area, area_ranking, entrance_time, project_length, tuition, major_df.iloc[i]['url'])\n",
    "        major_details.append(major_detail)\n",
    "        time.sleep(0.5)\n",
    "    except Exception as e:\n",
    "        print(e)"
   ]
  },
  {
   "cell_type": "code",
   "execution_count": 261,
   "metadata": {},
   "outputs": [
    {
     "data": {
      "text/plain": [
       "8524"
      ]
     },
     "execution_count": 261,
     "metadata": {},
     "output_type": "execute_result"
    }
   ],
   "source": [
    "len(major_details)"
   ]
  },
  {
   "cell_type": "code",
   "execution_count": 262,
   "metadata": {},
   "outputs": [
    {
     "data": {
      "text/plain": [
       "8524"
      ]
     },
     "execution_count": 262,
     "metadata": {},
     "output_type": "execute_result"
    }
   ],
   "source": [
    "len(major_df)"
   ]
  },
  {
   "cell_type": "code",
   "execution_count": 263,
   "metadata": {},
   "outputs": [],
   "source": [
    "res_list = [(row.area, row.area_ranking, row.entrance_time, row.project_length, \n",
    "             row.tuition, row.url) for row in major_details]"
   ]
  },
  {
   "cell_type": "code",
   "execution_count": 265,
   "metadata": {},
   "outputs": [],
   "source": [
    "major_detail_df = pd.DataFrame(res_list, columns=['area_1', 'area_ranking', 'entrance_time', 'project_length', \n",
    "                                                  'tuition', 'url'])"
   ]
  },
  {
   "cell_type": "code",
   "execution_count": 479,
   "metadata": {},
   "outputs": [],
   "source": [
    "df_all = pd.concat([major_df, major_detail_df], axis=1)"
   ]
  },
  {
   "cell_type": "code",
   "execution_count": 473,
   "metadata": {
    "collapsed": true
   },
   "outputs": [],
   "source": [
    "def map_region(tuition):\n",
    "    if '美' in tuition:\n",
    "        return 'US'\n",
    "    if '英' in tuition:\n",
    "        return 'Britain'\n",
    "    if '澳' in tuition:\n",
    "        return 'Australia'\n",
    "    if '港' in tuition:\n",
    "        return 'HongKong'\n",
    "    if '新' in tuition:\n",
    "        return 'Singapore'\n",
    "    if '欧' in tuition:\n",
    "        return 'Europe'\n",
    "    else:\n",
    "        return 'Unknown'"
   ]
  },
  {
   "cell_type": "code",
   "execution_count": 482,
   "metadata": {
    "collapsed": true
   },
   "outputs": [],
   "source": [
    "df_all['region'] = df_all['tuition'].apply(map_region)"
   ]
  },
  {
   "cell_type": "code",
   "execution_count": 484,
   "metadata": {},
   "outputs": [
    {
     "name": "stdout",
     "output_type": "stream",
     "text": [
      "<class 'pandas.core.frame.DataFrame'>\n",
      "Int64Index: 8524 entries, 0 to 8523\n",
      "Data columns (total 21 columns):\n",
      " #   Column          Non-Null Count  Dtype \n",
      "---  ------          --------------  ----- \n",
      " 0   en_name         8524 non-null   object\n",
      " 1   ch_name         8524 non-null   object\n",
      " 2   url             8524 non-null   object\n",
      " 3   ranking         8524 non-null   object\n",
      " 4   area            8524 non-null   object\n",
      " 5   tofel           8346 non-null   object\n",
      " 6   ielts           8447 non-null   object\n",
      " 7   gmat            817 non-null    object\n",
      " 8   gre             802 non-null    object\n",
      " 9   tofel_sub       8346 non-null   object\n",
      " 10  ielts_sub       8447 non-null   object\n",
      " 11  gmat_sub        817 non-null    object\n",
      " 12  gre_sub         802 non-null    object\n",
      " 13  curriculum      8510 non-null   object\n",
      " 14  area_1          8524 non-null   object\n",
      " 15  area_ranking    8524 non-null   object\n",
      " 16  entrance_time   8524 non-null   object\n",
      " 17  project_length  8524 non-null   object\n",
      " 18  tuition         8524 non-null   object\n",
      " 19  url             8524 non-null   object\n",
      " 20  region          8524 non-null   object\n",
      "dtypes: object(21)\n",
      "memory usage: 1.4+ MB\n"
     ]
    }
   ],
   "source": [
    "df_all.info()"
   ]
  },
  {
   "cell_type": "code",
   "execution_count": 299,
   "metadata": {},
   "outputs": [],
   "source": [
    "df_all[['en_name', 'ch_name', 'ranking', 'area', 'area_1', 'area_ranking', \n",
    "        'entrance_time', 'project_length', 'tuition', 'region']].to_csv('指南者专业信息.csv', index=None)"
   ]
  },
  {
   "cell_type": "code",
   "execution_count": null,
   "metadata": {
    "collapsed": true
   },
   "outputs": [],
   "source": [
    "''.join(i for i in myStr if not i.isdigit())"
   ]
  },
  {
   "cell_type": "code",
   "execution_count": 284,
   "metadata": {},
   "outputs": [],
   "source": [
    "k = df_all['tuition'].apply(lambda x: x.split('/')[0].strip().replace('.','').replace('-', ''))"
   ]
  },
  {
   "cell_type": "code",
   "execution_count": 285,
   "metadata": {},
   "outputs": [
    {
     "data": {
      "text/plain": [
       "0        80718美元\n",
       "1        82368美元\n",
       "2        55510美元\n",
       "3        55510美元\n",
       "4        55510美元\n",
       "          ...   \n",
       "8519     96480港币\n",
       "8520    170700港币\n",
       "8521    224640港币\n",
       "8522    115200港币\n",
       "8523     99840港币\n",
       "Name: tuition, Length: 8524, dtype: object"
      ]
     },
     "execution_count": 285,
     "metadata": {},
     "output_type": "execute_result"
    }
   ],
   "source": [
    "k"
   ]
  },
  {
   "cell_type": "code",
   "execution_count": 286,
   "metadata": {},
   "outputs": [],
   "source": [
    "k = k.apply(lambda x: ''.join(i for i in x if not i.isdigit())) "
   ]
  },
  {
   "cell_type": "code",
   "execution_count": 287,
   "metadata": {},
   "outputs": [
    {
     "data": {
      "text/plain": [
       "array(['美元', '英镑', ' 美元', '人民币', '新币', '欧元', '', '港币', ',美元', '澳元', '澳币',\n",
       "       '   美元', '万美元'], dtype=object)"
      ]
     },
     "execution_count": 287,
     "metadata": {},
     "output_type": "execute_result"
    }
   ],
   "source": [
    "k.unique()"
   ]
  },
  {
   "cell_type": "code",
   "execution_count": 246,
   "metadata": {
    "collapsed": true
   },
   "outputs": [],
   "source": [
    "for item in soup.find_all('div', attrs='project-item'):\n",
    "    if item.find_next('div').contents[0] == '专业方向':\n",
    "        area = item.find_all('div')[-1].contents[0]\n",
    "    if item.find_next('div').contents[0] == '专业排名':\n",
    "        area_ranking = item.find_all('div')[-1].contents[0]\n",
    "    if item.find_next('div').contents[0] == '入学时间':\n",
    "        entrance_time = item.find_all('div')[-1].contents[0]\n",
    "    if item.find_next('div').contents[0] == '项目时长':\n",
    "        project_length = item.find_all('div')[-1].contents[0]\n",
    "    if item.find_next('div').contents[0] == '项目学费':\n",
    "        tuition = item.find_all('div')[-1].contents[0]\n",
    "major_detail = MajorDetails(area, area_ranking, entrance_time, project_length, tuition)"
   ]
  },
  {
   "cell_type": "code",
   "execution_count": 247,
   "metadata": {},
   "outputs": [
    {
     "data": {
      "text/plain": [
       "MajorDetails(area='建筑', area_ranking='3', entrance_time='9月', project_length='1.5年', tuition='146667港币/年')"
      ]
     },
     "execution_count": 247,
     "metadata": {},
     "output_type": "execute_result"
    }
   ],
   "source": [
    "major_detail"
   ]
  },
  {
   "cell_type": "code",
   "execution_count": 241,
   "metadata": {},
   "outputs": [
    {
     "data": {
      "text/plain": [
       "<div class=\"label\">专业方向</div>"
      ]
     },
     "execution_count": 241,
     "metadata": {},
     "output_type": "execute_result"
    }
   ],
   "source": [
    "k.find_next('div')"
   ]
  },
  {
   "cell_type": "code",
   "execution_count": 245,
   "metadata": {},
   "outputs": [
    {
     "data": {
      "text/plain": [
       "[<div class=\"project-item\">\n",
       " <div class=\"label\">专业方向</div>\n",
       " <div class=\"value\">建筑</div>\n",
       " </div>,\n",
       " <div class=\"project-item\">\n",
       " <div class=\"label\">专业排名</div>\n",
       " <div class=\"value\">3</div>\n",
       " </div>,\n",
       " <div class=\"project-item\">\n",
       " <div class=\"label\">入学时间</div>\n",
       " <div class=\"value\">9月</div>\n",
       " </div>,\n",
       " <div class=\"project-item\">\n",
       " <div class=\"label\">项目时长</div>\n",
       " <div class=\"value\">1.5年</div>\n",
       " </div>,\n",
       " <div class=\"project-item\">\n",
       " <div class=\"label\">项目学费</div>\n",
       " <div class=\"value\">146667港币/年</div>\n",
       " </div>]"
      ]
     },
     "execution_count": 245,
     "metadata": {},
     "output_type": "execute_result"
    }
   ],
   "source": [
    "soup.find_all('div', attrs='project-item')"
   ]
  },
  {
   "cell_type": "markdown",
   "metadata": {},
   "source": [
    "# Scrape each major for more details\n"
   ]
  },
  {
   "cell_type": "code",
   "execution_count": 350,
   "metadata": {
    "collapsed": true
   },
   "outputs": [],
   "source": [
    "wp = \"https://www.compassedu.hk/majr_50007\"\n",
    "contents = requests.get(wp)\n",
    "soup = BeautifulSoup(contents.text)"
   ]
  },
  {
   "cell_type": "code",
   "execution_count": 343,
   "metadata": {
    "collapsed": true
   },
   "outputs": [],
   "source": [
    "@dataclass\n",
    "class EnglishRequirement:\n",
    "    tofel: str\n",
    "    ielts: str\n",
    "    gmat: str\n",
    "    gre: str\n",
    "    tofel_sub: str\n",
    "    ielts_sub: str\n",
    "    gmat_sub: str\n",
    "    gre_sub: str"
   ]
  },
  {
   "cell_type": "code",
   "execution_count": 352,
   "metadata": {
    "collapsed": true
   },
   "outputs": [],
   "source": [
    "def get_lang_requirements(soup):\n",
    "    lang_requirements = soup.find_all('div', attrs='detail__module__language')[0]\n",
    "    toefl_total, toefl_sub, ielts_total, ielts_sub, gre_total, gre_sub, gmat_total, gmat_sub = \\\n",
    "    None, None, None, None, None, None, None, None\n",
    "    try:\n",
    "        details = lang_requirements.find_all('div', attrs = 'row-item')\n",
    "        for detail in details:\n",
    "            if detail.find_next('span').contents[0] == '托福':\n",
    "                toefl_total = detail.find_all('span')[-2].contents[0]\n",
    "                toefl_sub = detail.find_all('span')[-1].contents[0]\n",
    "            if detail.find_next('span').contents[0] == '雅思':\n",
    "                ielts_total = detail.find_all('span')[-2].contents[0]\n",
    "                ielts_sub = detail.find_all('span')[-1].contents[0]\n",
    "            if detail.find_next('span').contents[0].lower() == 'gmat':\n",
    "                gmat_total = detail.find_all('span')[-2].contents[0]\n",
    "                gmat_sub = detail.find_all('span')[-1].contents[0]\n",
    "            if detail.find_next('span').contents[0].lower() == 'gre':\n",
    "                gre_total = detail.find_all('span')[-2].contents[0]\n",
    "                gre_sub = detail.find_all('span')[-1].contents[0]\n",
    "    except:\n",
    "        pass\n",
    "    return EnglishRequirement(toefl_total, ielts_total, gmat_total, gre_total, toefl_sub, ielts_sub, gmat_sub, gre_sub)"
   ]
  },
  {
   "cell_type": "code",
   "execution_count": 378,
   "metadata": {
    "collapsed": true
   },
   "outputs": [],
   "source": [
    "def get_classes(soup):\n",
    "    classes = ['']\n",
    "    try:\n",
    "        t = soup.find_all('div', attrs='curriculum-list')[0]\n",
    "        classes = [item.find_all('span')[1].contents[0] for item in t.find_all('div', attrs='row-item')][1:]\n",
    "    except:\n",
    "        pass\n",
    "    return ', '.join(classes)"
   ]
  },
  {
   "cell_type": "code",
   "execution_count": 385,
   "metadata": {},
   "outputs": [],
   "source": [
    "classes_dict = {}\n",
    "eng_requirement_dict = {}"
   ]
  },
  {
   "cell_type": "code",
   "execution_count": 389,
   "metadata": {},
   "outputs": [
    {
     "name": "stderr",
     "output_type": "stream",
     "text": [
      "100%|████████████████████████████████████| 8524/8524 [42:16:33<00:00, 17.85s/it]\n"
     ]
    }
   ],
   "source": [
    "base_url = 'https://www.compassedu.hk'\n",
    "\n",
    "for i in tqdm(range(0, len(major_df))):\n",
    "    try:\n",
    "        url = base_url + major_df.iloc[i]['url']\n",
    "        contents = requests.get(url)\n",
    "        soup = BeautifulSoup(contents.text)\n",
    "        classes_dict[major_df.iloc[i]['url']] = get_classes(soup)\n",
    "        eng_requirement_dict[major_df.iloc[i]['url']] = get_lang_requirements(soup)\n",
    "    except:\n",
    "        pass\n",
    "    time.sleep(0.5)"
   ]
  },
  {
   "cell_type": "code",
   "execution_count": 393,
   "metadata": {
    "collapsed": true
   },
   "outputs": [],
   "source": [
    "with open('eng_requirement_dict.pickle', 'wb') as f:\n",
    "    pickle.dump(eng_requirement_dict, f)"
   ]
  },
  {
   "cell_type": "code",
   "execution_count": 398,
   "metadata": {},
   "outputs": [],
   "source": [
    "with open('classes_dict.pickle', 'wb') as f:\n",
    "    pickle.dump(classes_dict, f)"
   ]
  },
  {
   "cell_type": "code",
   "execution_count": 399,
   "metadata": {},
   "outputs": [
    {
     "data": {
      "text/plain": [
       "8451"
      ]
     },
     "execution_count": 399,
     "metadata": {},
     "output_type": "execute_result"
    }
   ],
   "source": [
    "len(eng_requirement_dict)"
   ]
  },
  {
   "cell_type": "code",
   "execution_count": 400,
   "metadata": {},
   "outputs": [
    {
     "data": {
      "text/plain": [
       "8510"
      ]
     },
     "execution_count": 400,
     "metadata": {},
     "output_type": "execute_result"
    }
   ],
   "source": [
    "len(classes_dict)"
   ]
  },
  {
   "cell_type": "code",
   "execution_count": 401,
   "metadata": {},
   "outputs": [
    {
     "data": {
      "text/plain": [
       "8524"
      ]
     },
     "execution_count": 401,
     "metadata": {},
     "output_type": "execute_result"
    }
   ],
   "source": [
    "len(major_df)"
   ]
  },
  {
   "cell_type": "code",
   "execution_count": 402,
   "metadata": {},
   "outputs": [
    {
     "data": {
      "text/html": [
       "<div>\n",
       "<style scoped>\n",
       "    .dataframe tbody tr th:only-of-type {\n",
       "        vertical-align: middle;\n",
       "    }\n",
       "\n",
       "    .dataframe tbody tr th {\n",
       "        vertical-align: top;\n",
       "    }\n",
       "\n",
       "    .dataframe thead th {\n",
       "        text-align: right;\n",
       "    }\n",
       "</style>\n",
       "<table border=\"1\" class=\"dataframe\">\n",
       "  <thead>\n",
       "    <tr style=\"text-align: right;\">\n",
       "      <th></th>\n",
       "      <th>en_name</th>\n",
       "      <th>ch_name</th>\n",
       "      <th>url</th>\n",
       "      <th>ranking</th>\n",
       "      <th>area</th>\n",
       "    </tr>\n",
       "  </thead>\n",
       "  <tbody>\n",
       "    <tr>\n",
       "      <th>0</th>\n",
       "      <td>Master of Finance</td>\n",
       "      <td>麻省理工学院金融硕士</td>\n",
       "      <td>/majr_65569</td>\n",
       "      <td>QS排名：1</td>\n",
       "      <td>商科 金融</td>\n",
       "    </tr>\n",
       "    <tr>\n",
       "      <th>1</th>\n",
       "      <td>Master of Business Analytics</td>\n",
       "      <td>麻省理工学院商业分析硕士</td>\n",
       "      <td>/majr_65504</td>\n",
       "      <td>QS排名：1</td>\n",
       "      <td>商科 商业分析</td>\n",
       "    </tr>\n",
       "    <tr>\n",
       "      <th>2</th>\n",
       "      <td>Master of Science in Mechanical Engineering (S...</td>\n",
       "      <td>麻省理工学院机械工程理学硕士</td>\n",
       "      <td>/majr_71808</td>\n",
       "      <td>QS排名：1</td>\n",
       "      <td>工科 机械工程</td>\n",
       "    </tr>\n",
       "    <tr>\n",
       "      <th>3</th>\n",
       "      <td>Master of Science in Materials Science and Eng...</td>\n",
       "      <td>麻省理工学院材料科学与工程理学硕士</td>\n",
       "      <td>/majr_71870</td>\n",
       "      <td>QS排名：1</td>\n",
       "      <td>工科 材料</td>\n",
       "    </tr>\n",
       "    <tr>\n",
       "      <th>4</th>\n",
       "      <td>MS in Chemical Engineering Practice</td>\n",
       "      <td>麻省理工学院化学工程实践理学硕士</td>\n",
       "      <td>/majr_71771</td>\n",
       "      <td>QS排名：1</td>\n",
       "      <td>工科 化工</td>\n",
       "    </tr>\n",
       "  </tbody>\n",
       "</table>\n",
       "</div>"
      ],
      "text/plain": [
       "                                             en_name            ch_name  \\\n",
       "0                                  Master of Finance         麻省理工学院金融硕士   \n",
       "1                       Master of Business Analytics       麻省理工学院商业分析硕士   \n",
       "2  Master of Science in Mechanical Engineering (S...     麻省理工学院机械工程理学硕士   \n",
       "3  Master of Science in Materials Science and Eng...  麻省理工学院材料科学与工程理学硕士   \n",
       "4                MS in Chemical Engineering Practice   麻省理工学院化学工程实践理学硕士   \n",
       "\n",
       "           url ranking     area  \n",
       "0  /majr_65569  QS排名：1    商科 金融  \n",
       "1  /majr_65504  QS排名：1  商科 商业分析  \n",
       "2  /majr_71808  QS排名：1  工科 机械工程  \n",
       "3  /majr_71870  QS排名：1    工科 材料  \n",
       "4  /majr_71771  QS排名：1    工科 化工  "
      ]
     },
     "execution_count": 402,
     "metadata": {},
     "output_type": "execute_result"
    }
   ],
   "source": [
    "major_df.head()"
   ]
  },
  {
   "cell_type": "code",
   "execution_count": 407,
   "metadata": {},
   "outputs": [
    {
     "data": {
      "text/plain": [
       "EnglishRequirement(tofel='/', ielts='/', gmat='/', gre='/', tofel_sub='/', ielts_sub='/', gmat_sub='/', gre_sub='/')"
      ]
     },
     "execution_count": 407,
     "metadata": {},
     "output_type": "execute_result"
    }
   ],
   "source": [
    "list(eng_requirement_dict.values())[0]"
   ]
  },
  {
   "cell_type": "code",
   "execution_count": null,
   "metadata": {
    "collapsed": true
   },
   "outputs": [],
   "source": []
  },
  {
   "cell_type": "code",
   "execution_count": 408,
   "metadata": {
    "collapsed": true
   },
   "outputs": [],
   "source": [
    "eng_requirement_list = list(eng_requirement_dict.values())"
   ]
  },
  {
   "cell_type": "code",
   "execution_count": 413,
   "metadata": {},
   "outputs": [],
   "source": [
    "eng_requirement_list = [[k.tofel, k.ielts, k.gmat, k.gre, k.tofel_sub, k.ielts_sub, k.gmat_sub, k.gre_sub] for k in eng_requirement_list]"
   ]
  },
  {
   "cell_type": "code",
   "execution_count": 415,
   "metadata": {},
   "outputs": [],
   "source": [
    "eng_requirement_df = pd.DataFrame(eng_requirement_list, columns=['tofel', 'ielts', 'gmat', 'gre', \n",
    "                                                                 'tofel_sub', 'ielts_sub', 'gmat_sub', 'gre_sub'])"
   ]
  },
  {
   "cell_type": "code",
   "execution_count": 421,
   "metadata": {},
   "outputs": [],
   "source": [
    "eng_requirement_df['url'] = list(eng_requirement_dict.keys())"
   ]
  },
  {
   "cell_type": "code",
   "execution_count": 425,
   "metadata": {},
   "outputs": [],
   "source": [
    "# eng_requirement_df = eng_requirement_df.drop(['major_url'], axis=1)"
   ]
  },
  {
   "cell_type": "code",
   "execution_count": 439,
   "metadata": {},
   "outputs": [],
   "source": [
    "classes_df = pd.DataFrame([classes_dict.keys(), classes_dict.values()])"
   ]
  },
  {
   "cell_type": "code",
   "execution_count": 441,
   "metadata": {},
   "outputs": [],
   "source": [
    "classes_df = classes_df.T"
   ]
  },
  {
   "cell_type": "code",
   "execution_count": 446,
   "metadata": {
    "collapsed": true
   },
   "outputs": [],
   "source": [
    "classes_df.columns = ['url', 'curriculum']"
   ]
  },
  {
   "cell_type": "code",
   "execution_count": 485,
   "metadata": {},
   "outputs": [],
   "source": [
    "df_all = df_all.loc[:,~df_all.columns.duplicated()].copy()"
   ]
  },
  {
   "cell_type": "code",
   "execution_count": 487,
   "metadata": {},
   "outputs": [],
   "source": [
    "df_all.to_csv(\"指南者专业信息全.csv\", index=None)"
   ]
  },
  {
   "cell_type": "markdown",
   "metadata": {},
   "source": [
    "# Scrape applicant examples\n"
   ]
  },
  {
   "cell_type": "code",
   "execution_count": 488,
   "metadata": {
    "collapsed": true
   },
   "outputs": [],
   "source": [
    "wp = 'https://www.compassedu.hk/offer_c7t6p1'\n",
    "contents = requests.get(wp)\n",
    "soup = BeautifulSoup(contents.text)"
   ]
  },
  {
   "cell_type": "code",
   "execution_count": 531,
   "metadata": {
    "collapsed": true
   },
   "outputs": [],
   "source": [
    "region_dict = {'英国': 'c7', '美国': 'c12', '香港': 'c11', '澳大利亚': 'c9', '新加坡':'c10'}\n",
    "major_dict = {'商科': 't6', '社科':'t4', '工科': 't1', '理科': 't5'}"
   ]
  },
  {
   "cell_type": "code",
   "execution_count": 529,
   "metadata": {},
   "outputs": [],
   "source": [
    "def scrape_applicants(soup):\n",
    "    result = soup.find_all('div', attrs='result-list')[0]\n",
    "    schools = result.find_all('div', attrs='info')\n",
    "    applicant_details = result.find_all('div', attrs='detail')\n",
    "    try:\n",
    "        assert len(schools) == len(applicant_details)\n",
    "    except AssertionError:\n",
    "        print(\"bad form of input data\")\n",
    "        return None\n",
    "    \n",
    "    school_list = []\n",
    "    for school in schools:\n",
    "        school_list.append(school.find('div', attrs='title line-2').contents[0].replace('研究生offer一枚', ''))\n",
    "    \n",
    "    applicant_detail_list = []\n",
    "    for detail in applicant_details:\n",
    "        items = detail.find_all('div', attrs='text line-1')\n",
    "        applicant_detail_list.append(', '.join([item.contents[0] for item in items[1:]]))\n",
    "    \n",
    "    try:\n",
    "        assert len(school_list) == len(applicant_detail_list)\n",
    "    except AssertionError:\n",
    "        print (\"bad scraping\")\n",
    "        return None\n",
    "    \n",
    "    return school_list, applicant_detail_list"
   ]
  },
  {
   "cell_type": "code",
   "execution_count": 550,
   "metadata": {
    "collapsed": true
   },
   "outputs": [],
   "source": [
    "all_applicant_details = {}"
   ]
  },
  {
   "cell_type": "code",
   "execution_count": 551,
   "metadata": {},
   "outputs": [],
   "source": [
    "\n",
    "for region in region_dict.keys():\n",
    "    for area in major_dict.keys():\n",
    "        all_applicant_details[f'{region}_{area}'] = ([], [])\n",
    "        "
   ]
  },
  {
   "cell_type": "code",
   "execution_count": 553,
   "metadata": {},
   "outputs": [
    {
     "name": "stderr",
     "output_type": "stream",
     "text": [
      "\r",
      "  0%|                                                    | 0/55 [00:00<?, ?it/s]"
     ]
    },
    {
     "name": "stdout",
     "output_type": "stream",
     "text": [
      "list index out of range\n"
     ]
    },
    {
     "name": "stderr",
     "output_type": "stream",
     "text": [
      "100%|███████████████████████████████████████████| 55/55 [03:00<00:00,  3.27s/it]\n",
      "  0%|                                                    | 0/55 [00:00<?, ?it/s]"
     ]
    },
    {
     "name": "stdout",
     "output_type": "stream",
     "text": [
      "list index out of range\n"
     ]
    },
    {
     "name": "stderr",
     "output_type": "stream",
     "text": [
      "100%|███████████████████████████████████████████| 55/55 [02:51<00:00,  3.12s/it]\n",
      "  0%|                                                    | 0/55 [00:00<?, ?it/s]"
     ]
    },
    {
     "name": "stdout",
     "output_type": "stream",
     "text": [
      "list index out of range\n"
     ]
    },
    {
     "name": "stderr",
     "output_type": "stream",
     "text": [
      "100%|███████████████████████████████████████████| 55/55 [03:07<00:00,  3.41s/it]\n",
      "  0%|                                                    | 0/55 [00:00<?, ?it/s]"
     ]
    },
    {
     "name": "stdout",
     "output_type": "stream",
     "text": [
      "list index out of range\n"
     ]
    },
    {
     "name": "stderr",
     "output_type": "stream",
     "text": [
      "100%|███████████████████████████████████████████| 55/55 [03:03<00:00,  3.33s/it]\n",
      "  0%|                                                    | 0/55 [00:00<?, ?it/s]"
     ]
    },
    {
     "name": "stdout",
     "output_type": "stream",
     "text": [
      "list index out of range\n"
     ]
    },
    {
     "name": "stderr",
     "output_type": "stream",
     "text": [
      "100%|███████████████████████████████████████████| 55/55 [02:49<00:00,  3.08s/it]\n",
      "  0%|                                                    | 0/55 [00:00<?, ?it/s]"
     ]
    },
    {
     "name": "stdout",
     "output_type": "stream",
     "text": [
      "list index out of range\n"
     ]
    },
    {
     "name": "stderr",
     "output_type": "stream",
     "text": [
      "100%|███████████████████████████████████████████| 55/55 [03:14<00:00,  3.53s/it]\n",
      "  0%|                                                    | 0/55 [00:00<?, ?it/s]"
     ]
    },
    {
     "name": "stdout",
     "output_type": "stream",
     "text": [
      "list index out of range\n"
     ]
    },
    {
     "name": "stderr",
     "output_type": "stream",
     "text": [
      "100%|███████████████████████████████████████████| 55/55 [02:52<00:00,  3.14s/it]\n",
      "  0%|                                                    | 0/55 [00:00<?, ?it/s]"
     ]
    },
    {
     "name": "stdout",
     "output_type": "stream",
     "text": [
      "list index out of range\n"
     ]
    },
    {
     "name": "stderr",
     "output_type": "stream",
     "text": [
      "100%|███████████████████████████████████████████| 55/55 [02:52<00:00,  3.14s/it]\n",
      "  0%|                                                    | 0/55 [00:00<?, ?it/s]"
     ]
    },
    {
     "name": "stdout",
     "output_type": "stream",
     "text": [
      "list index out of range\n"
     ]
    },
    {
     "name": "stderr",
     "output_type": "stream",
     "text": [
      "100%|███████████████████████████████████████████| 55/55 [03:17<00:00,  3.60s/it]\n",
      "  0%|                                                    | 0/55 [00:00<?, ?it/s]"
     ]
    },
    {
     "name": "stdout",
     "output_type": "stream",
     "text": [
      "list index out of range\n"
     ]
    },
    {
     "name": "stderr",
     "output_type": "stream",
     "text": [
      "100%|███████████████████████████████████████████| 55/55 [03:20<00:00,  3.65s/it]\n",
      "  0%|                                                    | 0/55 [00:00<?, ?it/s]"
     ]
    },
    {
     "name": "stdout",
     "output_type": "stream",
     "text": [
      "list index out of range\n"
     ]
    },
    {
     "name": "stderr",
     "output_type": "stream",
     "text": [
      "100%|███████████████████████████████████████████| 55/55 [02:59<00:00,  3.27s/it]\n",
      "  0%|                                                    | 0/55 [00:00<?, ?it/s]"
     ]
    },
    {
     "name": "stdout",
     "output_type": "stream",
     "text": [
      "list index out of range\n"
     ]
    },
    {
     "name": "stderr",
     "output_type": "stream",
     "text": [
      "100%|███████████████████████████████████████████| 55/55 [03:02<00:00,  3.32s/it]\n",
      "  0%|                                                    | 0/55 [00:00<?, ?it/s]"
     ]
    },
    {
     "name": "stdout",
     "output_type": "stream",
     "text": [
      "list index out of range\n"
     ]
    },
    {
     "name": "stderr",
     "output_type": "stream",
     "text": [
      "100%|███████████████████████████████████████████| 55/55 [02:57<00:00,  3.22s/it]\n",
      "  0%|                                                    | 0/55 [00:00<?, ?it/s]"
     ]
    },
    {
     "name": "stdout",
     "output_type": "stream",
     "text": [
      "list index out of range\n"
     ]
    },
    {
     "name": "stderr",
     "output_type": "stream",
     "text": [
      "100%|███████████████████████████████████████████| 55/55 [02:53<00:00,  3.16s/it]\n",
      "  0%|                                                    | 0/55 [00:00<?, ?it/s]"
     ]
    },
    {
     "name": "stdout",
     "output_type": "stream",
     "text": [
      "list index out of range\n"
     ]
    },
    {
     "name": "stderr",
     "output_type": "stream",
     "text": [
      "100%|███████████████████████████████████████████| 55/55 [02:53<00:00,  3.15s/it]\n",
      "  0%|                                                    | 0/55 [00:00<?, ?it/s]"
     ]
    },
    {
     "name": "stdout",
     "output_type": "stream",
     "text": [
      "list index out of range\n"
     ]
    },
    {
     "name": "stderr",
     "output_type": "stream",
     "text": [
      "100%|███████████████████████████████████████████| 55/55 [02:58<00:00,  3.24s/it]\n",
      "  0%|                                                    | 0/55 [00:00<?, ?it/s]"
     ]
    },
    {
     "name": "stdout",
     "output_type": "stream",
     "text": [
      "list index out of range\n"
     ]
    },
    {
     "name": "stderr",
     "output_type": "stream",
     "text": [
      "100%|███████████████████████████████████████████| 55/55 [03:01<00:00,  3.29s/it]\n",
      "  0%|                                                    | 0/55 [00:00<?, ?it/s]"
     ]
    },
    {
     "name": "stdout",
     "output_type": "stream",
     "text": [
      "list index out of range\n"
     ]
    },
    {
     "name": "stderr",
     "output_type": "stream",
     "text": [
      "100%|███████████████████████████████████████████| 55/55 [02:57<00:00,  3.23s/it]\n",
      "  0%|                                                    | 0/55 [00:00<?, ?it/s]"
     ]
    },
    {
     "name": "stdout",
     "output_type": "stream",
     "text": [
      "list index out of range\n"
     ]
    },
    {
     "name": "stderr",
     "output_type": "stream",
     "text": [
      "100%|███████████████████████████████████████████| 55/55 [02:56<00:00,  3.21s/it]\n",
      "  0%|                                                    | 0/55 [00:00<?, ?it/s]"
     ]
    },
    {
     "name": "stdout",
     "output_type": "stream",
     "text": [
      "list index out of range\n"
     ]
    },
    {
     "name": "stderr",
     "output_type": "stream",
     "text": [
      "100%|███████████████████████████████████████████| 55/55 [02:45<00:00,  3.00s/it]\n"
     ]
    }
   ],
   "source": [
    "for region in region_dict.keys():\n",
    "    for area in major_dict.keys():\n",
    "        for i in tqdm(range(55)):\n",
    "            try:\n",
    "                wp = f'https://www.compassedu.hk/offer_{region_dict[region]}{major_dict[area]}p{i}'\n",
    "                contents = requests.get(wp)\n",
    "                soup = BeautifulSoup(contents.text)\n",
    "                results = scrape_applicants(soup)\n",
    "                all_applicant_details[f'{region}_{area}'][0].extend(results[0])\n",
    "                all_applicant_details[f'{region}_{area}'][1].extend(results[1])\n",
    "            except Exception as e:\n",
    "                print(e)\n",
    "            time.sleep(0.5)"
   ]
  },
  {
   "cell_type": "code",
   "execution_count": 555,
   "metadata": {},
   "outputs": [
    {
     "data": {
      "text/plain": [
       "dict_keys(['英国_商科', '英国_社科', '英国_工科', '英国_理科', '美国_商科', '美国_社科', '美国_工科', '美国_理科', '香港_商科', '香港_社科', '香港_工科', '香港_理科', '澳大利亚_商科', '澳大利亚_社科', '澳大利亚_工科', '澳大利亚_理科', '新加坡_商科', '新加坡_社科', '新加坡_工科', '新加坡_理科'])"
      ]
     },
     "execution_count": 555,
     "metadata": {},
     "output_type": "execute_result"
    }
   ],
   "source": [
    "all_applicant_details.keys()"
   ]
  },
  {
   "cell_type": "code",
   "execution_count": 557,
   "metadata": {},
   "outputs": [
    {
     "data": {
      "text/html": [
       "<div>\n",
       "<style scoped>\n",
       "    .dataframe tbody tr th:only-of-type {\n",
       "        vertical-align: middle;\n",
       "    }\n",
       "\n",
       "    .dataframe tbody tr th {\n",
       "        vertical-align: top;\n",
       "    }\n",
       "\n",
       "    .dataframe thead th {\n",
       "        text-align: right;\n",
       "    }\n",
       "</style>\n",
       "<table border=\"1\" class=\"dataframe\">\n",
       "  <thead>\n",
       "    <tr style=\"text-align: right;\">\n",
       "      <th></th>\n",
       "      <th>0</th>\n",
       "      <th>1</th>\n",
       "    </tr>\n",
       "  </thead>\n",
       "  <tbody>\n",
       "    <tr>\n",
       "      <th>0</th>\n",
       "      <td>卡迪夫大学国际经济学、银行与金融理学硕士</td>\n",
       "      <td>郑州航空工业管理学院, 经济学, 三年以上工作经验，GPA76.01，无</td>\n",
       "    </tr>\n",
       "    <tr>\n",
       "      <th>1</th>\n",
       "      <td>格拉斯哥大学信息管理与保存理学硕士</td>\n",
       "      <td>华东师范大学, 信息管理与信息系统, 已毕业，GPA81.52，无</td>\n",
       "    </tr>\n",
       "    <tr>\n",
       "      <th>2</th>\n",
       "      <td>剑桥大学经济学哲学硕士</td>\n",
       "      <td>中央财经大学, 国际经济与贸易（国际贸易/金融风险管理方向）, 大四，GPA91.72，雅思...</td>\n",
       "    </tr>\n",
       "    <tr>\n",
       "      <th>3</th>\n",
       "      <td>伦敦大学国王学院金融学（资产定价）理学硕士</td>\n",
       "      <td>中国海洋大学, 金融学, 大四，GPA97.93，无</td>\n",
       "    </tr>\n",
       "    <tr>\n",
       "      <th>4</th>\n",
       "      <td>南安普顿大学会计与管理理学硕士</td>\n",
       "      <td>湖南农业大学, 金融学, 大四，GPA81.2，暂无</td>\n",
       "    </tr>\n",
       "    <tr>\n",
       "      <th>...</th>\n",
       "      <td>...</td>\n",
       "      <td>...</td>\n",
       "    </tr>\n",
       "    <tr>\n",
       "      <th>1577</th>\n",
       "      <td>华威大学供应链与物流管理理学硕士</td>\n",
       "      <td>华中科技大学, 电气工程及其自动化, 大四，GPA 78分，雅思6分</td>\n",
       "    </tr>\n",
       "    <tr>\n",
       "      <th>1578</th>\n",
       "      <td>雷丁大学投资管理学理学硕士</td>\n",
       "      <td>东南大学, 市政工程, 大四，GPA 81分，雅思6分</td>\n",
       "    </tr>\n",
       "    <tr>\n",
       "      <th>1579</th>\n",
       "      <td>杜伦大学金融学理学硕士</td>\n",
       "      <td>南京理工大学, 金融学, 大四，GPA78分，雅思6分</td>\n",
       "    </tr>\n",
       "    <tr>\n",
       "      <th>1580</th>\n",
       "      <td>兰卡斯特大学电子商务与革新理学硕士</td>\n",
       "      <td>南京信息工程大学, 金融工程, 大四，GPA 76分，雅思6分</td>\n",
       "    </tr>\n",
       "    <tr>\n",
       "      <th>1581</th>\n",
       "      <td>伦敦政治经济学院当地经济发展理学硕士</td>\n",
       "      <td>浙江大学, 经济学, 大四，雅思6.5分，GPA82分</td>\n",
       "    </tr>\n",
       "  </tbody>\n",
       "</table>\n",
       "<p>1582 rows × 2 columns</p>\n",
       "</div>"
      ],
      "text/plain": [
       "                          0                                                  1\n",
       "0      卡迪夫大学国际经济学、银行与金融理学硕士               郑州航空工业管理学院, 经济学, 三年以上工作经验，GPA76.01，无\n",
       "1         格拉斯哥大学信息管理与保存理学硕士                  华东师范大学, 信息管理与信息系统, 已毕业，GPA81.52，无\n",
       "2               剑桥大学经济学哲学硕士  中央财经大学, 国际经济与贸易（国际贸易/金融风险管理方向）, 大四，GPA91.72，雅思...\n",
       "3     伦敦大学国王学院金融学（资产定价）理学硕士                         中国海洋大学, 金融学, 大四，GPA97.93，无\n",
       "4           南安普顿大学会计与管理理学硕士                         湖南农业大学, 金融学, 大四，GPA81.2，暂无\n",
       "...                     ...                                                ...\n",
       "1577       华威大学供应链与物流管理理学硕士                 华中科技大学, 电气工程及其自动化, 大四，GPA 78分，雅思6分\n",
       "1578          雷丁大学投资管理学理学硕士                        东南大学, 市政工程, 大四，GPA 81分，雅思6分\n",
       "1579            杜伦大学金融学理学硕士                        南京理工大学, 金融学, 大四，GPA78分，雅思6分\n",
       "1580      兰卡斯特大学电子商务与革新理学硕士                    南京信息工程大学, 金融工程, 大四，GPA 76分，雅思6分\n",
       "1581     伦敦政治经济学院当地经济发展理学硕士                        浙江大学, 经济学, 大四，雅思6.5分，GPA82分\n",
       "\n",
       "[1582 rows x 2 columns]"
      ]
     },
     "execution_count": 557,
     "metadata": {},
     "output_type": "execute_result"
    }
   ],
   "source": [
    "pd.DataFrame(all_applicant_details['英国_商科']).T"
   ]
  },
  {
   "cell_type": "code",
   "execution_count": 559,
   "metadata": {},
   "outputs": [],
   "source": [
    "for key in all_applicant_details.keys():\n",
    "    df = pd.DataFrame(all_applicant_details[key]).T\n",
    "    df.columns =['school', 'applicant']\n",
    "    df.to_csv(f'{key}_applicants.csv', index=None)"
   ]
  },
  {
   "cell_type": "markdown",
   "metadata": {},
   "source": [
    "## all qs 100"
   ]
  },
  {
   "cell_type": "code",
   "execution_count": 571,
   "metadata": {
    "collapsed": true
   },
   "outputs": [],
   "source": [
    "wp = 'https://www.compassedu.hk/university_0_1_t1p2p3'\n",
    "contents = requests.get(wp)\n",
    "soup = BeautifulSoup(contents.text)"
   ]
  },
  {
   "cell_type": "code",
   "execution_count": 584,
   "metadata": {
    "collapsed": true
   },
   "outputs": [],
   "source": [
    "qs_cn_names = []\n",
    "qs_en_names = []\n",
    "qs_rankings = []"
   ]
  },
  {
   "cell_type": "code",
   "execution_count": 585,
   "metadata": {},
   "outputs": [],
   "source": [
    "for res in soup.find_all('div', attrs='result-list')[0].find_all('div',attrs='slot_mid'):\n",
    "    # print(res)\n",
    "    qs_cn_names.append(res.find('div', 'cname').contents[0])\n",
    "    qs_en_names.append(res.find('div', 'ename line-1').contents[0])"
   ]
  },
  {
   "cell_type": "code",
   "execution_count": 586,
   "metadata": {
    "collapsed": true
   },
   "outputs": [],
   "source": [
    "for res in soup.find_all('div', attrs='result-list')[0].find_all('div',attrs='slot_right'):\n",
    "    qs_rankings.append(res.find('div', 'sort').contents[0])"
   ]
  },
  {
   "cell_type": "code",
   "execution_count": 588,
   "metadata": {},
   "outputs": [],
   "source": [
    "wp1 = 'https://www.compassedu.hk/university_0_2_t1p2p3'\n",
    "contents = requests.get(wp1)\n",
    "soup = BeautifulSoup(contents.text)"
   ]
  },
  {
   "cell_type": "code",
   "execution_count": 589,
   "metadata": {
    "collapsed": true
   },
   "outputs": [],
   "source": [
    "for res in soup.find_all('div', attrs='result-list')[0].find_all('div',attrs='slot_mid'):\n",
    "    # print(res)\n",
    "    qs_cn_names.append(res.find('div', 'cname').contents[0])\n",
    "    qs_en_names.append(res.find('div', 'ename line-1').contents[0])"
   ]
  },
  {
   "cell_type": "code",
   "execution_count": 590,
   "metadata": {
    "collapsed": true
   },
   "outputs": [],
   "source": [
    "for res in soup.find_all('div', attrs='result-list')[0].find_all('div',attrs='slot_right'):\n",
    "    qs_rankings.append(res.find('div', 'sort').contents[0])"
   ]
  },
  {
   "cell_type": "code",
   "execution_count": 592,
   "metadata": {},
   "outputs": [
    {
     "data": {
      "text/plain": [
       "58"
      ]
     },
     "execution_count": 592,
     "metadata": {},
     "output_type": "execute_result"
    }
   ],
   "source": [
    "len(qs_cn_names) "
   ]
  },
  {
   "cell_type": "code",
   "execution_count": 593,
   "metadata": {},
   "outputs": [
    {
     "data": {
      "text/plain": [
       "58"
      ]
     },
     "execution_count": 593,
     "metadata": {},
     "output_type": "execute_result"
    }
   ],
   "source": [
    "len(qs_rankings)"
   ]
  },
  {
   "cell_type": "code",
   "execution_count": 594,
   "metadata": {
    "collapsed": true
   },
   "outputs": [],
   "source": [
    "qs_100_df = pd.DataFrame([qs_rankings, qs_cn_names, qs_en_names])"
   ]
  },
  {
   "cell_type": "code",
   "execution_count": 596,
   "metadata": {},
   "outputs": [],
   "source": [
    "qs_100_df = qs_100_df.T"
   ]
  },
  {
   "cell_type": "code",
   "execution_count": 598,
   "metadata": {},
   "outputs": [],
   "source": [
    "qs_100_df.columns = ['qs_ranking', 'ch_name', 'en_name']"
   ]
  },
  {
   "cell_type": "code",
   "execution_count": 599,
   "metadata": {
    "collapsed": true
   },
   "outputs": [],
   "source": [
    "qs_100_df.to_csv('qs_ranking_top_100.csv', index=None)"
   ]
  },
  {
   "cell_type": "code",
   "execution_count": null,
   "metadata": {
    "collapsed": true
   },
   "outputs": [],
   "source": []
  }
 ],
 "metadata": {
  "kernelspec": {
   "display_name": "nobleprog_training",
   "language": "python",
   "name": "myenv"
  },
  "language_info": {
   "codemirror_mode": {
    "name": "ipython",
    "version": 3
   },
   "file_extension": ".py",
   "mimetype": "text/x-python",
   "name": "python",
   "nbconvert_exporter": "python",
   "pygments_lexer": "ipython3",
   "version": "3.10.8"
  }
 },
 "nbformat": 4,
 "nbformat_minor": 2
}
