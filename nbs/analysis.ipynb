{
 "cells": [
  {
   "cell_type": "code",
   "execution_count": 1,
   "metadata": {
    "collapsed": true
   },
   "outputs": [],
   "source": [
    "import pandas as pd"
   ]
  },
  {
   "cell_type": "code",
   "execution_count": 25,
   "metadata": {
    "collapsed": true
   },
   "outputs": [],
   "source": [
    "from fuzzywuzzy import fuzz\n",
    "from fuzzywuzzy import process"
   ]
  },
  {
   "cell_type": "code",
   "execution_count": 38,
   "metadata": {
    "collapsed": true
   },
   "outputs": [],
   "source": [
    "import pickle"
   ]
  },
  {
   "cell_type": "code",
   "execution_count": 87,
   "metadata": {
    "collapsed": true
   },
   "outputs": [],
   "source": [
    "import re"
   ]
  },
  {
   "cell_type": "code",
   "execution_count": 2,
   "metadata": {
    "collapsed": true
   },
   "outputs": [],
   "source": [
    "df = pd.read_csv(\"英国_商科_applicants.csv\")"
   ]
  },
  {
   "cell_type": "code",
   "execution_count": 3,
   "metadata": {},
   "outputs": [
    {
     "data": {
      "text/html": [
       "<div>\n",
       "<style scoped>\n",
       "    .dataframe tbody tr th:only-of-type {\n",
       "        vertical-align: middle;\n",
       "    }\n",
       "\n",
       "    .dataframe tbody tr th {\n",
       "        vertical-align: top;\n",
       "    }\n",
       "\n",
       "    .dataframe thead th {\n",
       "        text-align: right;\n",
       "    }\n",
       "</style>\n",
       "<table border=\"1\" class=\"dataframe\">\n",
       "  <thead>\n",
       "    <tr style=\"text-align: right;\">\n",
       "      <th></th>\n",
       "      <th>school</th>\n",
       "      <th>applicant</th>\n",
       "    </tr>\n",
       "  </thead>\n",
       "  <tbody>\n",
       "    <tr>\n",
       "      <th>0</th>\n",
       "      <td>卡迪夫大学国际经济学、银行与金融理学硕士</td>\n",
       "      <td>郑州航空工业管理学院, 经济学, 三年以上工作经验，GPA76.01，无</td>\n",
       "    </tr>\n",
       "    <tr>\n",
       "      <th>1</th>\n",
       "      <td>格拉斯哥大学信息管理与保存理学硕士</td>\n",
       "      <td>华东师范大学, 信息管理与信息系统, 已毕业，GPA81.52，无</td>\n",
       "    </tr>\n",
       "    <tr>\n",
       "      <th>2</th>\n",
       "      <td>剑桥大学经济学哲学硕士</td>\n",
       "      <td>中央财经大学, 国际经济与贸易（国际贸易/金融风险管理方向）, 大四，GPA91.72，雅思...</td>\n",
       "    </tr>\n",
       "    <tr>\n",
       "      <th>3</th>\n",
       "      <td>伦敦大学国王学院金融学（资产定价）理学硕士</td>\n",
       "      <td>中国海洋大学, 金融学, 大四，GPA97.93，无</td>\n",
       "    </tr>\n",
       "    <tr>\n",
       "      <th>4</th>\n",
       "      <td>南安普顿大学会计与管理理学硕士</td>\n",
       "      <td>湖南农业大学, 金融学, 大四，GPA81.2，暂无</td>\n",
       "    </tr>\n",
       "  </tbody>\n",
       "</table>\n",
       "</div>"
      ],
      "text/plain": [
       "                  school                                          applicant\n",
       "0   卡迪夫大学国际经济学、银行与金融理学硕士               郑州航空工业管理学院, 经济学, 三年以上工作经验，GPA76.01，无\n",
       "1      格拉斯哥大学信息管理与保存理学硕士                  华东师范大学, 信息管理与信息系统, 已毕业，GPA81.52，无\n",
       "2            剑桥大学经济学哲学硕士  中央财经大学, 国际经济与贸易（国际贸易/金融风险管理方向）, 大四，GPA91.72，雅思...\n",
       "3  伦敦大学国王学院金融学（资产定价）理学硕士                         中国海洋大学, 金融学, 大四，GPA97.93，无\n",
       "4        南安普顿大学会计与管理理学硕士                         湖南农业大学, 金融学, 大四，GPA81.2，暂无"
      ]
     },
     "execution_count": 3,
     "metadata": {},
     "output_type": "execute_result"
    }
   ],
   "source": [
    "df.head()"
   ]
  },
  {
   "cell_type": "code",
   "execution_count": 21,
   "metadata": {
    "collapsed": true
   },
   "outputs": [],
   "source": [
    "df['applicant_school'] = df['applicant'].apply(lambda x: x.split(',')[0].strip())"
   ]
  },
  {
   "cell_type": "code",
   "execution_count": 14,
   "metadata": {},
   "outputs": [],
   "source": [
    "chinese_schools = pd.read_csv(\"chinese_universities.csv\",header=None)"
   ]
  },
  {
   "cell_type": "code",
   "execution_count": 16,
   "metadata": {},
   "outputs": [],
   "source": [
    "chinese_schools.columns=['id', 'school_name', 'school_id', 'relation', 'location', 'type', 'note']"
   ]
  },
  {
   "cell_type": "code",
   "execution_count": 29,
   "metadata": {
    "collapsed": true
   },
   "outputs": [],
   "source": [
    "def match_school(school):\n",
    "    if school in list(chinese_schools['school_name'].unique()):\n",
    "        return 1\n",
    "    for s in list(chinese_schools['school_name'].unique()):\n",
    "        if fuzz.partial_ratio(school, s) >= 90:\n",
    "            return 1\n",
    "    return 0"
   ]
  },
  {
   "cell_type": "code",
   "execution_count": 34,
   "metadata": {},
   "outputs": [],
   "source": [
    "df['is_chinese_undergrad'] = df['applicant_school'].apply(match_school)"
   ]
  },
  {
   "cell_type": "code",
   "execution_count": 40,
   "metadata": {},
   "outputs": [],
   "source": [
    "with open('211.pickle', 'rb') as f:\n",
    "    school_211 = pickle.load(f)"
   ]
  },
  {
   "cell_type": "code",
   "execution_count": 42,
   "metadata": {},
   "outputs": [],
   "source": [
    "with open('985.pickle', 'rb') as f:\n",
    "    school_985 = pickle.load(f)"
   ]
  },
  {
   "cell_type": "code",
   "execution_count": 45,
   "metadata": {
    "collapsed": true
   },
   "outputs": [],
   "source": [
    "def is_school_985(school):\n",
    "    if school in school_985:\n",
    "        return 1\n",
    "    for s in school_985:\n",
    "        if fuzz.partial_ratio(school, s) >= 90:\n",
    "            return 1\n",
    "    return 0"
   ]
  },
  {
   "cell_type": "code",
   "execution_count": 46,
   "metadata": {
    "collapsed": true
   },
   "outputs": [],
   "source": [
    "def is_school_211(school):\n",
    "    if school in school_211:\n",
    "        return 1\n",
    "    for s in school_211:\n",
    "        if fuzz.partial_ratio(school, s) >= 90:\n",
    "            return 1\n",
    "    return 0"
   ]
  },
  {
   "cell_type": "code",
   "execution_count": 47,
   "metadata": {},
   "outputs": [],
   "source": [
    "df['is_985'] = df['applicant_school'].apply(is_school_985)\n",
    "df['is_211'] = df['applicant_school'].apply(is_school_211)"
   ]
  },
  {
   "cell_type": "code",
   "execution_count": 163,
   "metadata": {},
   "outputs": [],
   "source": [
    "zhuanke_schools = chinese_schools[chinese_schools['type'] == '专科']['school_name'].to_list()"
   ]
  },
  {
   "cell_type": "code",
   "execution_count": 150,
   "metadata": {
    "collapsed": true
   },
   "outputs": [],
   "source": [
    "def is_school_zhuanke(school):\n",
    "    if school in zhuanke_schools:\n",
    "        return 1\n",
    "    for s in zhuanke_schools:\n",
    "        if fuzz.partial_ratio(school, s) >= 90:\n",
    "            return 1\n",
    "    return 0"
   ]
  },
  {
   "cell_type": "code",
   "execution_count": 165,
   "metadata": {
    "collapsed": true
   },
   "outputs": [],
   "source": [
    "df['is_zhuanke'] = df['applicant_school'].apply(is_school_zhuanke)"
   ]
  },
  {
   "cell_type": "code",
   "execution_count": 167,
   "metadata": {},
   "outputs": [],
   "source": [
    "minban_schools = chinese_schools[chinese_schools['note'] == '民办']['school_name'].to_list()\n",
    "heban_schools = chinese_schools[((chinese_schools['note'] == '中外合作办学') | (chinese_schools['note'] == '内地与港澳台地区合作办学'))]['school_name'].to_list()"
   ]
  },
  {
   "cell_type": "code",
   "execution_count": 169,
   "metadata": {},
   "outputs": [],
   "source": [
    "def is_school_minban(school):\n",
    "    if school in minban_schools:\n",
    "        return 1\n",
    "    for s in minban_schools:\n",
    "        if fuzz.partial_ratio(school, s) >= 90:\n",
    "            return 1\n",
    "    return 0"
   ]
  },
  {
   "cell_type": "code",
   "execution_count": 170,
   "metadata": {
    "collapsed": true
   },
   "outputs": [],
   "source": [
    "def is_school_heban(school):\n",
    "    if school in heban_schools:\n",
    "        return 1\n",
    "    for s in heban_schools:\n",
    "        if fuzz.partial_ratio(school, s) >= 90:\n",
    "            return 1\n",
    "    return 0"
   ]
  },
  {
   "cell_type": "code",
   "execution_count": 171,
   "metadata": {
    "collapsed": true
   },
   "outputs": [],
   "source": [
    "df['is_minban'] = df['applicant_school'].apply(is_school_minban)\n",
    "df['is_heban'] = df['applicant_school'].apply(is_school_heban)"
   ]
  },
  {
   "cell_type": "code",
   "execution_count": 79,
   "metadata": {
    "collapsed": true
   },
   "outputs": [],
   "source": [
    "qs_rankings = pd.read_csv('qs_ranking_top_100.csv')"
   ]
  },
  {
   "cell_type": "code",
   "execution_count": 82,
   "metadata": {
    "scrolled": true
   },
   "outputs": [],
   "source": [
    "def is_school_top_100_qs(school):\n",
    "    top_qs_100_schools = qs_rankings['ch_name'].to_list() + qs_rankings['en_name'].to_list()\n",
    "    for s in top_qs_100_schools:\n",
    "        if fuzz.partial_ratio(school, s) >= 90:\n",
    "            return 1\n",
    "    return 0"
   ]
  },
  {
   "cell_type": "code",
   "execution_count": 103,
   "metadata": {},
   "outputs": [],
   "source": [
    "df['is_top_100_qs'] = df['applicant_school'].apply(is_school_top_100_qs)"
   ]
  },
  {
   "cell_type": "code",
   "execution_count": 122,
   "metadata": {},
   "outputs": [],
   "source": [
    "def extract_gpa(txt):\n",
    "    ## I'm really bad at regular expression and i don't intend to optimize it.\n",
    "    try:\n",
    "        pattern = r\"GPA\\d+\\.\\d+\"\n",
    "\n",
    "        result = re.findall(pattern, txt)\n",
    "        if not bool(result):\n",
    "            pattern = r\"GPA\\d+\"\n",
    "            result = re.findall(pattern, txt)\n",
    "        if not bool(result):\n",
    "            pattern = r\"GPA \\d+\"\n",
    "            result = re.findall(pattern, txt)\n",
    "        return result[0]\n",
    "    except IndexError:\n",
    "        return None"
   ]
  },
  {
   "cell_type": "code",
   "execution_count": 120,
   "metadata": {},
   "outputs": [],
   "source": [
    "df['gpa'] = df['applicant'].apply(extract_gpa)"
   ]
  },
  {
   "cell_type": "code",
   "execution_count": 124,
   "metadata": {
    "collapsed": true
   },
   "outputs": [],
   "source": [
    "df['gpa'] = df['gpa'].apply(lambda x: x.replace('GPA', '').strip())"
   ]
  },
  {
   "cell_type": "code",
   "execution_count": 126,
   "metadata": {
    "collapsed": true
   },
   "outputs": [],
   "source": [
    "df['gpa'] = pd.to_numeric(df['gpa'])"
   ]
  },
  {
   "cell_type": "code",
   "execution_count": 142,
   "metadata": {
    "collapsed": true
   },
   "outputs": [],
   "source": [
    "def transform_gpa(gpa):\n",
    "    if gpa <= 5:\n",
    "        return (gpa + 1) * 20\n",
    "    if gpa <= 20: # weird systems\n",
    "        return None\n",
    "    return gpa"
   ]
  },
  {
   "cell_type": "code",
   "execution_count": 143,
   "metadata": {},
   "outputs": [],
   "source": [
    "df['gpa'] = df['gpa'].apply(transform_gpa)"
   ]
  },
  {
   "cell_type": "code",
   "execution_count": 174,
   "metadata": {
    "collapsed": true
   },
   "outputs": [],
   "source": [
    "major_all = pd.read_csv(\"指南者专业信息全.csv\")"
   ]
  },
  {
   "cell_type": "code",
   "execution_count": 176,
   "metadata": {},
   "outputs": [],
   "source": [
    "major_all['qs_ranking'] = major_all['ranking'].apply(lambda x: int(x.split(\"：\")[1].strip().replace(\"+\", \"\")))"
   ]
  },
  {
   "cell_type": "code",
   "execution_count": 181,
   "metadata": {},
   "outputs": [],
   "source": [
    "df = df.merge(major_all[['ch_name', 'qs_ranking']], left_on='school', right_on='ch_name', how='left')"
   ]
  },
  {
   "cell_type": "code",
   "execution_count": 185,
   "metadata": {},
   "outputs": [],
   "source": [
    "df = df.drop(['ch_name'], axis=1)"
   ]
  },
  {
   "cell_type": "code",
   "execution_count": 232,
   "metadata": {
    "collapsed": true
   },
   "outputs": [],
   "source": [
    "from sklearn.ensemble import GradientBoostingRegressor\n",
    "from sklearn.model_selection import train_test_split\n",
    "from sklearn.metrics import mean_squared_error\n",
    "import numpy as np\n",
    "import matplotlib.pyplot as plt"
   ]
  },
  {
   "cell_type": "code",
   "execution_count": 216,
   "metadata": {
    "collapsed": true
   },
   "outputs": [],
   "source": [
    "_df = df[df['qs_ranking'].notna()]\n",
    "_df = _df[_df['gpa'].notna()]"
   ]
  },
  {
   "cell_type": "code",
   "execution_count": 217,
   "metadata": {
    "collapsed": true
   },
   "outputs": [],
   "source": [
    "y = _df['qs_ranking']\n",
    "x = _df[['is_chinese_undergrad', 'is_985', 'is_211', 'is_top_100_qs', 'gpa', 'is_zhuanke', 'is_minban', 'is_heban']]"
   ]
  },
  {
   "cell_type": "code",
   "execution_count": 223,
   "metadata": {
    "collapsed": true
   },
   "outputs": [],
   "source": [
    "model = GradientBoostingRegressor(n_estimators=10)"
   ]
  },
  {
   "cell_type": "code",
   "execution_count": 220,
   "metadata": {
    "collapsed": true
   },
   "outputs": [],
   "source": [
    "X_train, X_valid, y_train, y_valid = train_test_split(x, y, test_size=0.2, random_state=23)"
   ]
  },
  {
   "cell_type": "code",
   "execution_count": 224,
   "metadata": {},
   "outputs": [
    {
     "data": {
      "text/plain": [
       "GradientBoostingRegressor(n_estimators=10)"
      ]
     },
     "execution_count": 224,
     "metadata": {},
     "output_type": "execute_result"
    }
   ],
   "source": [
    "model.fit(X_train, y_train)"
   ]
  },
  {
   "cell_type": "code",
   "execution_count": 225,
   "metadata": {},
   "outputs": [],
   "source": [
    "y_pred = model.predict(X_valid)"
   ]
  },
  {
   "cell_type": "code",
   "execution_count": 230,
   "metadata": {},
   "outputs": [
    {
     "data": {
      "text/plain": [
       "51.71751160566586"
      ]
     },
     "execution_count": 230,
     "metadata": {},
     "output_type": "execute_result"
    }
   ],
   "source": [
    "np.sqrt(mean_squared_error(y_pred, y_valid))"
   ]
  },
  {
   "cell_type": "code",
   "execution_count": 235,
   "metadata": {},
   "outputs": [
    {
     "data": {
      "text/plain": [
       "<matplotlib.collections.PathCollection at 0x7f83a0458760>"
      ]
     },
     "execution_count": 235,
     "metadata": {},
     "output_type": "execute_result"
    },
    {
     "data": {
      "image/png": "[encoded data removed]",
      "text/plain": [
       "<Figure size 640x480 with 1 Axes>"
      ]
     },
     "metadata": {},
     "output_type": "display_data"
    }
   ],
   "source": [
    "plt.scatter(y_valid, y_pred)"
   ]
  },
  {
   "cell_type": "markdown",
   "metadata": {},
   "source": [
    "## Using k neartest neighbor instead"
   ]
  },
  {
   "cell_type": "code",
   "execution_count": 236,
   "metadata": {},
   "outputs": [
    {
     "data": {
      "text/html": [
       "<div>\n",
       "<style scoped>\n",
       "    .dataframe tbody tr th:only-of-type {\n",
       "        vertical-align: middle;\n",
       "    }\n",
       "\n",
       "    .dataframe tbody tr th {\n",
       "        vertical-align: top;\n",
       "    }\n",
       "\n",
       "    .dataframe thead th {\n",
       "        text-align: right;\n",
       "    }\n",
       "</style>\n",
       "<table border=\"1\" class=\"dataframe\">\n",
       "  <thead>\n",
       "    <tr style=\"text-align: right;\">\n",
       "      <th></th>\n",
       "      <th>school</th>\n",
       "      <th>applicant</th>\n",
       "      <th>applicant_school</th>\n",
       "      <th>is_chinese_undergrad</th>\n",
       "      <th>is_985</th>\n",
       "      <th>is_211</th>\n",
       "      <th>is_top_100_qs</th>\n",
       "      <th>gpa</th>\n",
       "      <th>is_zhuanke</th>\n",
       "      <th>is_minban</th>\n",
       "      <th>is_heban</th>\n",
       "      <th>qs_ranking</th>\n",
       "    </tr>\n",
       "  </thead>\n",
       "  <tbody>\n",
       "    <tr>\n",
       "      <th>0</th>\n",
       "      <td>卡迪夫大学国际经济学、银行与金融理学硕士</td>\n",
       "      <td>郑州航空工业管理学院, 经济学, 三年以上工作经验，GPA76.01，无</td>\n",
       "      <td>郑州航空工业管理学院</td>\n",
       "      <td>1</td>\n",
       "      <td>0</td>\n",
       "      <td>0</td>\n",
       "      <td>0</td>\n",
       "      <td>76.01</td>\n",
       "      <td>0</td>\n",
       "      <td>0</td>\n",
       "      <td>0</td>\n",
       "      <td>166.0</td>\n",
       "    </tr>\n",
       "    <tr>\n",
       "      <th>1</th>\n",
       "      <td>格拉斯哥大学信息管理与保存理学硕士</td>\n",
       "      <td>华东师范大学, 信息管理与信息系统, 已毕业，GPA81.52，无</td>\n",
       "      <td>华东师范大学</td>\n",
       "      <td>1</td>\n",
       "      <td>1</td>\n",
       "      <td>1</td>\n",
       "      <td>0</td>\n",
       "      <td>81.52</td>\n",
       "      <td>0</td>\n",
       "      <td>0</td>\n",
       "      <td>0</td>\n",
       "      <td>81.0</td>\n",
       "    </tr>\n",
       "    <tr>\n",
       "      <th>2</th>\n",
       "      <td>剑桥大学经济学哲学硕士</td>\n",
       "      <td>中央财经大学, 国际经济与贸易（国际贸易/金融风险管理方向）, 大四，GPA91.72，雅思...</td>\n",
       "      <td>中央财经大学</td>\n",
       "      <td>1</td>\n",
       "      <td>0</td>\n",
       "      <td>1</td>\n",
       "      <td>0</td>\n",
       "      <td>91.72</td>\n",
       "      <td>0</td>\n",
       "      <td>0</td>\n",
       "      <td>0</td>\n",
       "      <td>2.0</td>\n",
       "    </tr>\n",
       "    <tr>\n",
       "      <th>3</th>\n",
       "      <td>伦敦大学国王学院金融学（资产定价）理学硕士</td>\n",
       "      <td>中国海洋大学, 金融学, 大四，GPA97.93，无</td>\n",
       "      <td>中国海洋大学</td>\n",
       "      <td>1</td>\n",
       "      <td>1</td>\n",
       "      <td>1</td>\n",
       "      <td>0</td>\n",
       "      <td>97.93</td>\n",
       "      <td>0</td>\n",
       "      <td>0</td>\n",
       "      <td>0</td>\n",
       "      <td>37.0</td>\n",
       "    </tr>\n",
       "    <tr>\n",
       "      <th>4</th>\n",
       "      <td>南安普顿大学会计与管理理学硕士</td>\n",
       "      <td>湖南农业大学, 金融学, 大四，GPA81.2，暂无</td>\n",
       "      <td>湖南农业大学</td>\n",
       "      <td>1</td>\n",
       "      <td>0</td>\n",
       "      <td>0</td>\n",
       "      <td>0</td>\n",
       "      <td>81.20</td>\n",
       "      <td>0</td>\n",
       "      <td>1</td>\n",
       "      <td>0</td>\n",
       "      <td>78.0</td>\n",
       "    </tr>\n",
       "  </tbody>\n",
       "</table>\n",
       "</div>"
      ],
      "text/plain": [
       "                  school                                          applicant  \\\n",
       "0   卡迪夫大学国际经济学、银行与金融理学硕士               郑州航空工业管理学院, 经济学, 三年以上工作经验，GPA76.01，无   \n",
       "1      格拉斯哥大学信息管理与保存理学硕士                  华东师范大学, 信息管理与信息系统, 已毕业，GPA81.52，无   \n",
       "2            剑桥大学经济学哲学硕士  中央财经大学, 国际经济与贸易（国际贸易/金融风险管理方向）, 大四，GPA91.72，雅思...   \n",
       "3  伦敦大学国王学院金融学（资产定价）理学硕士                         中国海洋大学, 金融学, 大四，GPA97.93，无   \n",
       "4        南安普顿大学会计与管理理学硕士                         湖南农业大学, 金融学, 大四，GPA81.2，暂无   \n",
       "\n",
       "  applicant_school  is_chinese_undergrad  is_985  is_211  is_top_100_qs  \\\n",
       "0       郑州航空工业管理学院                     1       0       0              0   \n",
       "1           华东师范大学                     1       1       1              0   \n",
       "2           中央财经大学                     1       0       1              0   \n",
       "3           中国海洋大学                     1       1       1              0   \n",
       "4           湖南农业大学                     1       0       0              0   \n",
       "\n",
       "     gpa  is_zhuanke  is_minban  is_heban  qs_ranking  \n",
       "0  76.01           0          0         0       166.0  \n",
       "1  81.52           0          0         0        81.0  \n",
       "2  91.72           0          0         0         2.0  \n",
       "3  97.93           0          0         0        37.0  \n",
       "4  81.20           0          1         0        78.0  "
      ]
     },
     "execution_count": 236,
     "metadata": {},
     "output_type": "execute_result"
    }
   ],
   "source": [
    "df.head()"
   ]
  },
  {
   "cell_type": "code",
   "execution_count": 241,
   "metadata": {
    "collapsed": true
   },
   "outputs": [],
   "source": [
    "_df['gpa_normalized'] = (_df['gpa'] - _df['gpa'].mean()) / _df['gpa'].std()"
   ]
  },
  {
   "cell_type": "code",
   "execution_count": 238,
   "metadata": {
    "collapsed": true
   },
   "outputs": [],
   "source": [
    "from sklearn.neighbors import NearestNeighbors"
   ]
  },
  {
   "cell_type": "code",
   "execution_count": 239,
   "metadata": {
    "collapsed": true
   },
   "outputs": [],
   "source": [
    "model = NearestNeighbors()"
   ]
  },
  {
   "cell_type": "code",
   "execution_count": 243,
   "metadata": {
    "collapsed": true
   },
   "outputs": [],
   "source": [
    "train_data = _df[['is_chinese_undergrad', 'is_985', 'is_211', 'is_top_100_qs', 'is_zhuanke', 'is_minban', 'is_heban', 'gpa_normalized']]"
   ]
  },
  {
   "cell_type": "code",
   "execution_count": 242,
   "metadata": {},
   "outputs": [
    {
     "data": {
      "text/plain": [
       "NearestNeighbors()"
      ]
     },
     "execution_count": 242,
     "metadata": {},
     "output_type": "execute_result"
    }
   ],
   "source": [
    "model.fit(train_data)"
   ]
  },
  {
   "cell_type": "code",
   "execution_count": 265,
   "metadata": {},
   "outputs": [
    {
     "name": "stderr",
     "output_type": "stream",
     "text": [
      "/Users/leilingtao/anaconda/envs/nlu/lib/python3.9/site-packages/sklearn/base.py:450: UserWarning: X does not have valid feature names, but NearestNeighbors was fitted with feature names\n",
      "  warnings.warn(\n"
     ]
    },
    {
     "data": {
      "text/plain": [
       "(array([[0.        , 0.00461349, 0.00461349, 0.00461349, 0.00461349,\n",
       "         0.0199918 , 0.03537011, 0.03537011, 0.06920239, 0.06920239]]),\n",
       " array([[100, 529, 550, 527, 560, 699, 682, 769, 766, 576]]))"
      ]
     },
     "execution_count": 265,
     "metadata": {},
     "output_type": "execute_result"
    }
   ],
   "source": [
    "model.kneighbors([train_data.iloc[100]], n_neighbors=10)"
   ]
  },
  {
   "cell_type": "code",
   "execution_count": 260,
   "metadata": {},
   "outputs": [
    {
     "data": {
      "text/plain": [
       "school                                   南安普顿大学经济学理学硕士\n",
       "applicant               北京工业大学, 经济统计学, 已毕业，GPA86.21，暂无\n",
       "applicant_school                                北京工业大学\n",
       "is_chinese_undergrad                                 1\n",
       "is_985                                               1\n",
       "is_211                                               1\n",
       "is_top_100_qs                                        0\n",
       "gpa                                              86.21\n",
       "is_zhuanke                                           0\n",
       "is_minban                                            1\n",
       "is_heban                                             0\n",
       "qs_ranking                                        78.0\n",
       "gpa_normalized                                0.269103\n",
       "Name: 100, dtype: object"
      ]
     },
     "execution_count": 260,
     "metadata": {},
     "output_type": "execute_result"
    }
   ],
   "source": [
    "_df.iloc[100]"
   ]
  },
  {
   "cell_type": "code",
   "execution_count": 266,
   "metadata": {},
   "outputs": [
    {
     "data": {
      "text/plain": [
       "school                               曼彻斯特大学国际时尚营销理学硕士\n",
       "applicant               北京理工大学珠海学院, 商务英语, 大四，GPA86.66\n",
       "applicant_school                           北京理工大学珠海学院\n",
       "is_chinese_undergrad                                1\n",
       "is_985                                              1\n",
       "is_211                                              1\n",
       "is_top_100_qs                                       0\n",
       "gpa                                             86.66\n",
       "is_zhuanke                                          0\n",
       "is_minban                                           1\n",
       "is_heban                                            0\n",
       "qs_ranking                                       28.0\n",
       "gpa_normalized                               0.338305\n",
       "Name: 596, dtype: object"
      ]
     },
     "execution_count": 266,
     "metadata": {},
     "output_type": "execute_result"
    }
   ],
   "source": [
    "_df.iloc[576]"
   ]
  },
  {
   "cell_type": "code",
   "execution_count": 270,
   "metadata": {},
   "outputs": [
    {
     "data": {
      "text/plain": [
       "100     78.0\n",
       "546     64.0\n",
       "568     92.0\n",
       "544     64.0\n",
       "579     61.0\n",
       "739     37.0\n",
       "716     81.0\n",
       "816     64.0\n",
       "811    162.0\n",
       "596     28.0\n",
       "Name: qs_ranking, dtype: float64"
      ]
     },
     "execution_count": 270,
     "metadata": {},
     "output_type": "execute_result"
    }
   ],
   "source": [
    "_df.iloc[[100, 529, 550, 527, 560, 699, 682, 769, 766, 576]]['qs_ranking']"
   ]
  },
  {
   "cell_type": "code",
   "execution_count": 274,
   "metadata": {},
   "outputs": [
    {
     "data": {
      "text/plain": [
       "array([ 2., 37., 28., 15.,  8.,  6.,  4.])"
      ]
     },
     "execution_count": 274,
     "metadata": {},
     "output_type": "execute_result"
    }
   ],
   "source": [
    "_df[_df['qs_ranking'] <= 40]['qs_ranking'].unique()"
   ]
  },
  {
   "cell_type": "markdown",
   "metadata": {},
   "source": [
    "## business logic"
   ]
  },
  {
   "cell_type": "markdown",
   "metadata": {},
   "source": [
    "1. Find 12 nearest neighbor based on all dataset, get the list of available qs_rankings\n",
    "2. Based on the 12 nearest neighbors, get the top 3, middle 6 and bottom 3 qs_rankings\n",
    "3. Translate that into corresponding tiers (i.e. if avg of top 3 is 20, then find 10 - 30)\n",
    "4. For each tier, find if there're corresponding schools/majors in the region\n",
    "5. apply filter (language and tuition)\n",
    "6. return the tiers"
   ]
  },
  {
   "cell_type": "code",
   "execution_count": 275,
   "metadata": {
    "collapsed": true
   },
   "outputs": [],
   "source": [
    "import os"
   ]
  },
  {
   "cell_type": "code",
   "execution_count": 276,
   "metadata": {
    "collapsed": true
   },
   "outputs": [],
   "source": [
    "all_applicant_df_fns = []\n",
    "for fn in os.listdir('.'):\n",
    "    if '_applicants.csv' in fn:\n",
    "        all_applicant_df_fns.append(fn)"
   ]
  },
  {
   "cell_type": "code",
   "execution_count": 298,
   "metadata": {
    "collapsed": true
   },
   "outputs": [],
   "source": [
    "all_applicant_dfs = [pd.read_csv(f'{t}') for t in all_applicant_df_fns]"
   ]
  },
  {
   "cell_type": "code",
   "execution_count": 301,
   "metadata": {},
   "outputs": [],
   "source": [
    "for df_fn, df in zip(all_applicant_df_fns, all_applicant_dfs):\n",
    "    df['fn'] = df_fn"
   ]
  },
  {
   "cell_type": "code",
   "execution_count": 302,
   "metadata": {
    "collapsed": true
   },
   "outputs": [],
   "source": [
    "all_applicant_dfs = pd.concat(all_applicant_dfs)"
   ]
  },
  {
   "cell_type": "code",
   "execution_count": 320,
   "metadata": {},
   "outputs": [],
   "source": [
    "def process_applicant_df(df):\n",
    "    df['gpa'] = df['applicant'].apply(extract_gpa)\n",
    "    df['gpa'] = df['gpa'].apply(lambda x: x.replace('GPA', '').strip() if bool(x) else None)\n",
    "    df['gpa'] = pd.to_numeric(df['gpa'])\n",
    "    df['gpa'] = df['gpa'].apply(transform_gpa)\n",
    "    df['gpa_normalized'] = (df['gpa'] - df['gpa'].mean()) / df['gpa'].std()\n",
    "    df['applicant_school'] = df['applicant'].apply(lambda x: x.split(',')[0].strip())\n",
    "    df['is_chinese_undergrad'] = df['applicant_school'].apply(match_school)\n",
    "    df['is_985'] = df['applicant_school'].apply(is_school_985)\n",
    "    df['is_211'] = df['applicant_school'].apply(is_school_211)\n",
    "    df['is_zhuanke'] = df['applicant_school'].apply(is_school_zhuanke)\n",
    "    df['is_minban'] = df['applicant_school'].apply(is_school_minban)\n",
    "    df['is_heban'] = df['applicant_school'].apply(is_school_heban)\n",
    "    df['is_top_100_qs'] = df['applicant_school'].apply(is_school_top_100_qs)\n",
    "    df['school'] = df['school'].apply(lambda x: x.replace('offer一枚', ''))\n",
    "    return df"
   ]
  },
  {
   "cell_type": "code",
   "execution_count": 322,
   "metadata": {},
   "outputs": [],
   "source": [
    "t = process_applicant_df(all_applicant_dfs)"
   ]
  },
  {
   "cell_type": "code",
   "execution_count": 321,
   "metadata": {},
   "outputs": [
    {
     "data": {
      "text/html": [
       "<div>\n",
       "<style scoped>\n",
       "    .dataframe tbody tr th:only-of-type {\n",
       "        vertical-align: middle;\n",
       "    }\n",
       "\n",
       "    .dataframe tbody tr th {\n",
       "        vertical-align: top;\n",
       "    }\n",
       "\n",
       "    .dataframe thead th {\n",
       "        text-align: right;\n",
       "    }\n",
       "</style>\n",
       "<table border=\"1\" class=\"dataframe\">\n",
       "  <thead>\n",
       "    <tr style=\"text-align: right;\">\n",
       "      <th></th>\n",
       "      <th>school</th>\n",
       "      <th>applicant</th>\n",
       "      <th>fn</th>\n",
       "    </tr>\n",
       "  </thead>\n",
       "  <tbody>\n",
       "    <tr>\n",
       "      <th>0</th>\n",
       "      <td>香港科技大学工程企业管理理学硕士</td>\n",
       "      <td>中山大学, 材料物理, 两年工作经验，GPA3.5，雅思7.0</td>\n",
       "      <td>香港_工科_applicants.csv</td>\n",
       "    </tr>\n",
       "    <tr>\n",
       "      <th>1</th>\n",
       "      <td>香港大学工程学（机械工程）理学硕士</td>\n",
       "      <td>上海交通大学, 船舶与海洋工程, 已毕业，GPA2.97，雅思6.5</td>\n",
       "      <td>香港_工科_applicants.csv</td>\n",
       "    </tr>\n",
       "    <tr>\n",
       "      <th>2</th>\n",
       "      <td>香港城市大学工程管理学理学硕士</td>\n",
       "      <td>福州大学, 工程管理, 大四，GPA83.75，托福:101(L:29/R:30/W:21/...</td>\n",
       "      <td>香港_工科_applicants.csv</td>\n",
       "    </tr>\n",
       "    <tr>\n",
       "      <th>3</th>\n",
       "      <td>香港大学工程学（机械工程）理学硕士</td>\n",
       "      <td>西安交通大学, 工业设计, 大四，GPA3.81，雅思8，GRE333</td>\n",
       "      <td>香港_工科_applicants.csv</td>\n",
       "    </tr>\n",
       "    <tr>\n",
       "      <th>4</th>\n",
       "      <td>香港大学工程学（机械工程）理学硕士</td>\n",
       "      <td>布里斯托大学, 机械工程, 大四，GPA68.67，不需要</td>\n",
       "      <td>香港_工科_applicants.csv</td>\n",
       "    </tr>\n",
       "    <tr>\n",
       "      <th>...</th>\n",
       "      <td>...</td>\n",
       "      <td>...</td>\n",
       "      <td>...</td>\n",
       "    </tr>\n",
       "    <tr>\n",
       "      <th>975</th>\n",
       "      <td>伦敦大学学院能源环境经济与政策理学硕士</td>\n",
       "      <td>四川大学, 金融学（双语）, 大四，GPA 88分，托福110分</td>\n",
       "      <td>英国_工科_applicants.csv</td>\n",
       "    </tr>\n",
       "    <tr>\n",
       "      <th>976</th>\n",
       "      <td>华威大学供应链与物流管理理学硕士</td>\n",
       "      <td>华东理工大学, 自动化, 大四，GPA81分，雅思6.5分</td>\n",
       "      <td>英国_工科_applicants.csv</td>\n",
       "    </tr>\n",
       "    <tr>\n",
       "      <th>977</th>\n",
       "      <td>莱斯特大学信息与通信工程理学硕士offer一枚</td>\n",
       "      <td>南京理工大学, 通信工程, 包同学，南京理工大学，通信工程，GPA75分，雅思6分</td>\n",
       "      <td>英国_工科_applicants.csv</td>\n",
       "    </tr>\n",
       "    <tr>\n",
       "      <th>978</th>\n",
       "      <td>伦敦大学学院软件系统工程理学硕士</td>\n",
       "      <td>武汉理工大学, 工程管理, 大四，GPA82分，雅思6.5</td>\n",
       "      <td>英国_工科_applicants.csv</td>\n",
       "    </tr>\n",
       "    <tr>\n",
       "      <th>979</th>\n",
       "      <td>帝国理工学院高级机械工程理学硕士</td>\n",
       "      <td>上海交通大学, 机械工程, 大四，GPA 88分，雅思 7分</td>\n",
       "      <td>英国_工科_applicants.csv</td>\n",
       "    </tr>\n",
       "  </tbody>\n",
       "</table>\n",
       "<p>11980 rows × 3 columns</p>\n",
       "</div>"
      ],
      "text/plain": [
       "                      school  \\\n",
       "0           香港科技大学工程企业管理理学硕士   \n",
       "1          香港大学工程学（机械工程）理学硕士   \n",
       "2            香港城市大学工程管理学理学硕士   \n",
       "3          香港大学工程学（机械工程）理学硕士   \n",
       "4          香港大学工程学（机械工程）理学硕士   \n",
       "..                       ...   \n",
       "975      伦敦大学学院能源环境经济与政策理学硕士   \n",
       "976         华威大学供应链与物流管理理学硕士   \n",
       "977  莱斯特大学信息与通信工程理学硕士offer一枚   \n",
       "978         伦敦大学学院软件系统工程理学硕士   \n",
       "979         帝国理工学院高级机械工程理学硕士   \n",
       "\n",
       "                                             applicant                    fn  \n",
       "0                      中山大学, 材料物理, 两年工作经验，GPA3.5，雅思7.0  香港_工科_applicants.csv  \n",
       "1                   上海交通大学, 船舶与海洋工程, 已毕业，GPA2.97，雅思6.5  香港_工科_applicants.csv  \n",
       "2    福州大学, 工程管理, 大四，GPA83.75，托福:101(L:29/R:30/W:21/...  香港_工科_applicants.csv  \n",
       "3                  西安交通大学, 工业设计, 大四，GPA3.81，雅思8，GRE333  香港_工科_applicants.csv  \n",
       "4                        布里斯托大学, 机械工程, 大四，GPA68.67，不需要  香港_工科_applicants.csv  \n",
       "..                                                 ...                   ...  \n",
       "975                   四川大学, 金融学（双语）, 大四，GPA 88分，托福110分  英国_工科_applicants.csv  \n",
       "976                      华东理工大学, 自动化, 大四，GPA81分，雅思6.5分  英国_工科_applicants.csv  \n",
       "977          南京理工大学, 通信工程, 包同学，南京理工大学，通信工程，GPA75分，雅思6分  英国_工科_applicants.csv  \n",
       "978                      武汉理工大学, 工程管理, 大四，GPA82分，雅思6.5  英国_工科_applicants.csv  \n",
       "979                     上海交通大学, 机械工程, 大四，GPA 88分，雅思 7分  英国_工科_applicants.csv  \n",
       "\n",
       "[11980 rows x 3 columns]"
      ]
     },
     "execution_count": 321,
     "metadata": {},
     "output_type": "execute_result"
    }
   ],
   "source": [
    "all_applicant_dfs"
   ]
  },
  {
   "cell_type": "code",
   "execution_count": 323,
   "metadata": {},
   "outputs": [
    {
     "name": "stdout",
     "output_type": "stream",
     "text": [
      "<class 'pandas.core.frame.DataFrame'>\n",
      "Int64Index: 11980 entries, 0 to 979\n",
      "Data columns (total 13 columns):\n",
      " #   Column                Non-Null Count  Dtype  \n",
      "---  ------                --------------  -----  \n",
      " 0   school                11980 non-null  object \n",
      " 1   applicant             11980 non-null  object \n",
      " 2   fn                    11980 non-null  object \n",
      " 3   gpa                   11912 non-null  float64\n",
      " 4   gpa_normalized        11912 non-null  float64\n",
      " 5   applicant_school      11980 non-null  object \n",
      " 6   is_chinese_undergrad  11980 non-null  int64  \n",
      " 7   is_985                11980 non-null  int64  \n",
      " 8   is_211                11980 non-null  int64  \n",
      " 9   is_zhuanke            11980 non-null  int64  \n",
      " 10  is_minban             11980 non-null  int64  \n",
      " 11  is_heban              11980 non-null  int64  \n",
      " 12  is_top_100_qs         11980 non-null  int64  \n",
      "dtypes: float64(2), int64(7), object(4)\n",
      "memory usage: 1.3+ MB\n"
     ]
    }
   ],
   "source": [
    "t.info()"
   ]
  },
  {
   "cell_type": "code",
   "execution_count": 324,
   "metadata": {
    "collapsed": true
   },
   "outputs": [],
   "source": [
    "_t = t.merge(major_all[['ch_name', 'qs_ranking']], left_on='school', right_on='ch_name', how='left')"
   ]
  },
  {
   "cell_type": "code",
   "execution_count": 342,
   "metadata": {},
   "outputs": [
    {
     "data": {
      "text/html": [
       "<div>\n",
       "<style scoped>\n",
       "    .dataframe tbody tr th:only-of-type {\n",
       "        vertical-align: middle;\n",
       "    }\n",
       "\n",
       "    .dataframe tbody tr th {\n",
       "        vertical-align: top;\n",
       "    }\n",
       "\n",
       "    .dataframe thead th {\n",
       "        text-align: right;\n",
       "    }\n",
       "</style>\n",
       "<table border=\"1\" class=\"dataframe\">\n",
       "  <thead>\n",
       "    <tr style=\"text-align: right;\">\n",
       "      <th></th>\n",
       "      <th>en_name</th>\n",
       "      <th>ch_name</th>\n",
       "      <th>url</th>\n",
       "      <th>ranking</th>\n",
       "      <th>area</th>\n",
       "      <th>tofel</th>\n",
       "      <th>ielts</th>\n",
       "      <th>gmat</th>\n",
       "      <th>gre</th>\n",
       "      <th>tofel_sub</th>\n",
       "      <th>...</th>\n",
       "      <th>gmat_sub</th>\n",
       "      <th>gre_sub</th>\n",
       "      <th>curriculum</th>\n",
       "      <th>area_1</th>\n",
       "      <th>area_ranking</th>\n",
       "      <th>entrance_time</th>\n",
       "      <th>project_length</th>\n",
       "      <th>tuition</th>\n",
       "      <th>region</th>\n",
       "      <th>qs_ranking</th>\n",
       "    </tr>\n",
       "  </thead>\n",
       "  <tbody>\n",
       "    <tr>\n",
       "      <th>1057</th>\n",
       "      <td>MSc Playwriting</td>\n",
       "      <td>爱丁堡大学剧本创作理学硕士</td>\n",
       "      <td>/majr_62623</td>\n",
       "      <td>QS排名：15</td>\n",
       "      <td>社科 影视</td>\n",
       "      <td>100</td>\n",
       "      <td>7</td>\n",
       "      <td>NaN</td>\n",
       "      <td>NaN</td>\n",
       "      <td>L:23 | R:23 | W:23 | S:23</td>\n",
       "      <td>...</td>\n",
       "      <td>NaN</td>\n",
       "      <td>NaN</td>\n",
       "      <td>剧作家的技能, 表演的时间和空间, 研究前现代的手稿, 表现的自主性:传统与创新, 后殖民写...</td>\n",
       "      <td>影视</td>\n",
       "      <td>5</td>\n",
       "      <td>9月</td>\n",
       "      <td>1年</td>\n",
       "      <td>27100英镑/年</td>\n",
       "      <td>Britain</td>\n",
       "      <td>15</td>\n",
       "    </tr>\n",
       "    <tr>\n",
       "      <th>1058</th>\n",
       "      <td>MSc Sound Design</td>\n",
       "      <td>爱丁堡大学声音设计理学硕士</td>\n",
       "      <td>/majr_62629</td>\n",
       "      <td>QS排名：15</td>\n",
       "      <td>社科 影视</td>\n",
       "      <td>92</td>\n",
       "      <td>6.5</td>\n",
       "      <td>NaN</td>\n",
       "      <td>NaN</td>\n",
       "      <td>L:20 | R:20 | W:20 | S:20</td>\n",
       "      <td>...</td>\n",
       "      <td>NaN</td>\n",
       "      <td>NaN</td>\n",
       "      <td>音频制作, 数字媒体工作室项目, 音乐大师毕业设计, 声波结构, 声学, 媒体和文化, 屏幕...</td>\n",
       "      <td>影视</td>\n",
       "      <td>5</td>\n",
       "      <td>9月</td>\n",
       "      <td>1年</td>\n",
       "      <td>28200英镑/年</td>\n",
       "      <td>Britain</td>\n",
       "      <td>15</td>\n",
       "    </tr>\n",
       "    <tr>\n",
       "      <th>1059</th>\n",
       "      <td>MA (eca) Film Directing</td>\n",
       "      <td>爱丁堡大学电影导演文学硕士</td>\n",
       "      <td>/majr_62969</td>\n",
       "      <td>QS排名：15</td>\n",
       "      <td>社科 影视</td>\n",
       "      <td>100</td>\n",
       "      <td>7</td>\n",
       "      <td>NaN</td>\n",
       "      <td>NaN</td>\n",
       "      <td>L:20 | R:20 | W:20 | S:20</td>\n",
       "      <td>...</td>\n",
       "      <td>NaN</td>\n",
       "      <td>NaN</td>\n",
       "      <td>传播设计实践, 纪录片发展, 纪录片定稿：编辑, 拍摄纪录片</td>\n",
       "      <td>影视</td>\n",
       "      <td>5</td>\n",
       "      <td>9月</td>\n",
       "      <td>1年</td>\n",
       "      <td>28200英镑/年</td>\n",
       "      <td>Britain</td>\n",
       "      <td>15</td>\n",
       "    </tr>\n",
       "    <tr>\n",
       "      <th>1060</th>\n",
       "      <td>MSc Applied Animal Behaviour and Animal Welfare</td>\n",
       "      <td>爱丁堡大学应用动物行为与动物福利理学硕士</td>\n",
       "      <td>/majr_65825</td>\n",
       "      <td>QS排名：15</td>\n",
       "      <td>理科 生物</td>\n",
       "      <td>100</td>\n",
       "      <td>7</td>\n",
       "      <td>NaN</td>\n",
       "      <td>NaN</td>\n",
       "      <td>L:23 | R:23 | W:23 | S:23</td>\n",
       "      <td>...</td>\n",
       "      <td>NaN</td>\n",
       "      <td>NaN</td>\n",
       "      <td>应用动物行为与动物福利概论, 痛苦生物学, 动物认知与意识, 科学方法论, 动物福利应用, ...</td>\n",
       "      <td>生物</td>\n",
       "      <td>5</td>\n",
       "      <td>9月</td>\n",
       "      <td>1年</td>\n",
       "      <td>24700英镑/年</td>\n",
       "      <td>Britain</td>\n",
       "      <td>15</td>\n",
       "    </tr>\n",
       "    <tr>\n",
       "      <th>1061</th>\n",
       "      <td>MSc Globalised Muslim World</td>\n",
       "      <td>爱丁堡大学全球穆斯林世界理学硕士</td>\n",
       "      <td>/majr_65833</td>\n",
       "      <td>QS排名：15</td>\n",
       "      <td>社科 其他社科</td>\n",
       "      <td>100</td>\n",
       "      <td>7</td>\n",
       "      <td>NaN</td>\n",
       "      <td>NaN</td>\n",
       "      <td>L:23 | R:23 | W:23 | S:23</td>\n",
       "      <td>...</td>\n",
       "      <td>NaN</td>\n",
       "      <td>NaN</td>\n",
       "      <td>全球化穆斯林世界的区域视角, 穆斯林世界的国际、跨国和全球化动态, 研究技巧与方法, 穆斯林...</td>\n",
       "      <td>其他社科</td>\n",
       "      <td>6</td>\n",
       "      <td>9月</td>\n",
       "      <td>1年</td>\n",
       "      <td>27100英镑/年</td>\n",
       "      <td>Britain</td>\n",
       "      <td>15</td>\n",
       "    </tr>\n",
       "    <tr>\n",
       "      <th>...</th>\n",
       "      <td>...</td>\n",
       "      <td>...</td>\n",
       "      <td>...</td>\n",
       "      <td>...</td>\n",
       "      <td>...</td>\n",
       "      <td>...</td>\n",
       "      <td>...</td>\n",
       "      <td>...</td>\n",
       "      <td>...</td>\n",
       "      <td>...</td>\n",
       "      <td>...</td>\n",
       "      <td>...</td>\n",
       "      <td>...</td>\n",
       "      <td>...</td>\n",
       "      <td>...</td>\n",
       "      <td>...</td>\n",
       "      <td>...</td>\n",
       "      <td>...</td>\n",
       "      <td>...</td>\n",
       "      <td>...</td>\n",
       "      <td>...</td>\n",
       "    </tr>\n",
       "    <tr>\n",
       "      <th>1482</th>\n",
       "      <td>MSc Sociological Research</td>\n",
       "      <td>曼彻斯特大学社会学研究理学硕士</td>\n",
       "      <td>/majr_62482</td>\n",
       "      <td>QS排名：28</td>\n",
       "      <td>社科 社会学与社工</td>\n",
       "      <td>100</td>\n",
       "      <td>7</td>\n",
       "      <td>NaN</td>\n",
       "      <td>NaN</td>\n",
       "      <td>L:22 | R:22 | W:25 | S:22</td>\n",
       "      <td>...</td>\n",
       "      <td>NaN</td>\n",
       "      <td>NaN</td>\n",
       "      <td>社会理论与文化认同, 研究设计I, 研究设计II, 社会研究中的方法论问题, 定量方法简介,...</td>\n",
       "      <td>社会学与社工</td>\n",
       "      <td>4</td>\n",
       "      <td>9月</td>\n",
       "      <td>1年</td>\n",
       "      <td>23500英镑/年</td>\n",
       "      <td>Britain</td>\n",
       "      <td>28</td>\n",
       "    </tr>\n",
       "    <tr>\n",
       "      <th>1483</th>\n",
       "      <td>MSc Urban Studies</td>\n",
       "      <td>曼彻斯特大学城市研究理学硕士</td>\n",
       "      <td>/majr_72331</td>\n",
       "      <td>QS排名：28</td>\n",
       "      <td>社科 社会学与社工</td>\n",
       "      <td>100</td>\n",
       "      <td>7</td>\n",
       "      <td>NaN</td>\n",
       "      <td>NaN</td>\n",
       "      <td>L:25 | R:25 | W:25 | S:25</td>\n",
       "      <td>...</td>\n",
       "      <td>NaN</td>\n",
       "      <td>NaN</td>\n",
       "      <td>城市研究中的关键问题, 研究城市, 大曼彻斯特地区的政策与政治活动, 全球城市未来, 论文</td>\n",
       "      <td>社会学与社工</td>\n",
       "      <td>4</td>\n",
       "      <td>9月</td>\n",
       "      <td>1年</td>\n",
       "      <td>23500英镑/年</td>\n",
       "      <td>Britain</td>\n",
       "      <td>28</td>\n",
       "    </tr>\n",
       "    <tr>\n",
       "      <th>1484</th>\n",
       "      <td>MA Humanitarianism and Conflict Response</td>\n",
       "      <td>曼彻斯特大学人道主义与冲突回应文学硕士</td>\n",
       "      <td>/majr_52634</td>\n",
       "      <td>QS排名：28</td>\n",
       "      <td>社科 国际关系</td>\n",
       "      <td>93</td>\n",
       "      <td>6.5</td>\n",
       "      <td>NaN</td>\n",
       "      <td>NaN</td>\n",
       "      <td>L:20 | R:20 | W:22 | S:20</td>\n",
       "      <td>...</td>\n",
       "      <td>NaN</td>\n",
       "      <td>NaN</td>\n",
       "      <td>论文, 人道主义与冲突应对：查询, 研究与评估方法, 人道主义援助的历史, 跨境：流散的比较...</td>\n",
       "      <td>国际关系</td>\n",
       "      <td>11</td>\n",
       "      <td>9月</td>\n",
       "      <td>1年</td>\n",
       "      <td>26000英镑/年</td>\n",
       "      <td>Britain</td>\n",
       "      <td>28</td>\n",
       "    </tr>\n",
       "    <tr>\n",
       "      <th>1485</th>\n",
       "      <td>MA Peace and Conflict Studies</td>\n",
       "      <td>曼彻斯特大学和平与冲突研究文学硕士</td>\n",
       "      <td>/majr_52637</td>\n",
       "      <td>QS排名：28</td>\n",
       "      <td>社科 国际关系</td>\n",
       "      <td>100</td>\n",
       "      <td>7</td>\n",
       "      <td>NaN</td>\n",
       "      <td>NaN</td>\n",
       "      <td>L:22 | R:22 | W:25 | S:22</td>\n",
       "      <td>...</td>\n",
       "      <td>NaN</td>\n",
       "      <td>NaN</td>\n",
       "      <td>和平与社会机构，安全与干预：理论与实践, 研究受冲突影响的社会的实用方法, 学位论文-MA和...</td>\n",
       "      <td>国际关系</td>\n",
       "      <td>11</td>\n",
       "      <td>9月</td>\n",
       "      <td>1年</td>\n",
       "      <td>25000英镑/年</td>\n",
       "      <td>Britain</td>\n",
       "      <td>28</td>\n",
       "    </tr>\n",
       "    <tr>\n",
       "      <th>1486</th>\n",
       "      <td>MSc Global Development</td>\n",
       "      <td>曼彻斯特大学全球发展理学硕士</td>\n",
       "      <td>/majr_52670</td>\n",
       "      <td>QS排名：28</td>\n",
       "      <td>社科 国际关系</td>\n",
       "      <td>100</td>\n",
       "      <td>7</td>\n",
       "      <td>NaN</td>\n",
       "      <td>NaN</td>\n",
       "      <td>L:25 | R:25 | W:25 | S:25</td>\n",
       "      <td>...</td>\n",
       "      <td>NaN</td>\n",
       "      <td>NaN</td>\n",
       "      <td>发展基础, 全球发展挑战, 发展研究, 人道主义和冲突应对：调查, 产业竞争力与全球转型, ...</td>\n",
       "      <td>国际关系</td>\n",
       "      <td>11</td>\n",
       "      <td>9月</td>\n",
       "      <td>1年</td>\n",
       "      <td>24000英镑/年</td>\n",
       "      <td>Britain</td>\n",
       "      <td>28</td>\n",
       "    </tr>\n",
       "  </tbody>\n",
       "</table>\n",
       "<p>100 rows × 21 columns</p>\n",
       "</div>"
      ],
      "text/plain": [
       "                                              en_name               ch_name  \\\n",
       "1057                                  MSc Playwriting         爱丁堡大学剧本创作理学硕士   \n",
       "1058                                 MSc Sound Design         爱丁堡大学声音设计理学硕士   \n",
       "1059                          MA (eca) Film Directing         爱丁堡大学电影导演文学硕士   \n",
       "1060  MSc Applied Animal Behaviour and Animal Welfare  爱丁堡大学应用动物行为与动物福利理学硕士   \n",
       "1061                      MSc Globalised Muslim World      爱丁堡大学全球穆斯林世界理学硕士   \n",
       "...                                               ...                   ...   \n",
       "1482                       MSc Sociological Research        曼彻斯特大学社会学研究理学硕士   \n",
       "1483                                MSc Urban Studies        曼彻斯特大学城市研究理学硕士   \n",
       "1484        MA Humanitarianism and Conflict Response    曼彻斯特大学人道主义与冲突回应文学硕士   \n",
       "1485                   MA Peace and Conflict Studies      曼彻斯特大学和平与冲突研究文学硕士   \n",
       "1486                           MSc Global Development        曼彻斯特大学全球发展理学硕士   \n",
       "\n",
       "              url  ranking       area tofel ielts gmat  gre  \\\n",
       "1057  /majr_62623  QS排名：15      社科 影视   100     7  NaN  NaN   \n",
       "1058  /majr_62629  QS排名：15      社科 影视    92   6.5  NaN  NaN   \n",
       "1059  /majr_62969  QS排名：15      社科 影视   100     7  NaN  NaN   \n",
       "1060  /majr_65825  QS排名：15      理科 生物   100     7  NaN  NaN   \n",
       "1061  /majr_65833  QS排名：15    社科 其他社科   100     7  NaN  NaN   \n",
       "...           ...      ...        ...   ...   ...  ...  ...   \n",
       "1482  /majr_62482  QS排名：28  社科 社会学与社工   100     7  NaN  NaN   \n",
       "1483  /majr_72331  QS排名：28  社科 社会学与社工   100     7  NaN  NaN   \n",
       "1484  /majr_52634  QS排名：28    社科 国际关系    93   6.5  NaN  NaN   \n",
       "1485  /majr_52637  QS排名：28    社科 国际关系   100     7  NaN  NaN   \n",
       "1486  /majr_52670  QS排名：28    社科 国际关系   100     7  NaN  NaN   \n",
       "\n",
       "                       tofel_sub  ... gmat_sub gre_sub  \\\n",
       "1057  L:23 | R:23 | W:23 | S:23   ...      NaN     NaN   \n",
       "1058  L:20 | R:20 | W:20 | S:20   ...      NaN     NaN   \n",
       "1059  L:20 | R:20 | W:20 | S:20   ...      NaN     NaN   \n",
       "1060  L:23 | R:23 | W:23 | S:23   ...      NaN     NaN   \n",
       "1061  L:23 | R:23 | W:23 | S:23   ...      NaN     NaN   \n",
       "...                          ...  ...      ...     ...   \n",
       "1482  L:22 | R:22 | W:25 | S:22   ...      NaN     NaN   \n",
       "1483  L:25 | R:25 | W:25 | S:25   ...      NaN     NaN   \n",
       "1484  L:20 | R:20 | W:22 | S:20   ...      NaN     NaN   \n",
       "1485  L:22 | R:22 | W:25 | S:22   ...      NaN     NaN   \n",
       "1486  L:25 | R:25 | W:25 | S:25   ...      NaN     NaN   \n",
       "\n",
       "                                             curriculum  area_1 area_ranking  \\\n",
       "1057  剧作家的技能, 表演的时间和空间, 研究前现代的手稿, 表现的自主性:传统与创新, 后殖民写...      影视            5   \n",
       "1058  音频制作, 数字媒体工作室项目, 音乐大师毕业设计, 声波结构, 声学, 媒体和文化, 屏幕...      影视            5   \n",
       "1059                     传播设计实践, 纪录片发展, 纪录片定稿：编辑, 拍摄纪录片      影视            5   \n",
       "1060  应用动物行为与动物福利概论, 痛苦生物学, 动物认知与意识, 科学方法论, 动物福利应用, ...      生物            5   \n",
       "1061  全球化穆斯林世界的区域视角, 穆斯林世界的国际、跨国和全球化动态, 研究技巧与方法, 穆斯林...    其他社科            6   \n",
       "...                                                 ...     ...          ...   \n",
       "1482  社会理论与文化认同, 研究设计I, 研究设计II, 社会研究中的方法论问题, 定量方法简介,...  社会学与社工            4   \n",
       "1483      城市研究中的关键问题, 研究城市, 大曼彻斯特地区的政策与政治活动, 全球城市未来, 论文  社会学与社工            4   \n",
       "1484  论文, 人道主义与冲突应对：查询, 研究与评估方法, 人道主义援助的历史, 跨境：流散的比较...    国际关系           11   \n",
       "1485  和平与社会机构，安全与干预：理论与实践, 研究受冲突影响的社会的实用方法, 学位论文-MA和...    国际关系           11   \n",
       "1486  发展基础, 全球发展挑战, 发展研究, 人道主义和冲突应对：调查, 产业竞争力与全球转型, ...    国际关系           11   \n",
       "\n",
       "      entrance_time project_length    tuition   region qs_ranking  \n",
       "1057             9月             1年  27100英镑/年  Britain         15  \n",
       "1058             9月             1年  28200英镑/年  Britain         15  \n",
       "1059             9月             1年  28200英镑/年  Britain         15  \n",
       "1060             9月             1年  24700英镑/年  Britain         15  \n",
       "1061             9月             1年  27100英镑/年  Britain         15  \n",
       "...             ...            ...        ...      ...        ...  \n",
       "1482             9月             1年  23500英镑/年  Britain         28  \n",
       "1483             9月             1年  23500英镑/年  Britain         28  \n",
       "1484             9月             1年  26000英镑/年  Britain         28  \n",
       "1485             9月             1年  25000英镑/年  Britain         28  \n",
       "1486             9月             1年  24000英镑/年  Britain         28  \n",
       "\n",
       "[100 rows x 21 columns]"
      ]
     },
     "execution_count": 342,
     "metadata": {},
     "output_type": "execute_result"
    }
   ],
   "source": [
    "major_all[major_all['region'] == 'Britain'].iloc[900:1000]"
   ]
  },
  {
   "cell_type": "code",
   "execution_count": 308,
   "metadata": {},
   "outputs": [],
   "source": [
    "t.to_csv(\"all_applicant_training_data.csv\", index=None)"
   ]
  },
  {
   "cell_type": "code",
   "execution_count": null,
   "metadata": {
    "collapsed": true
   },
   "outputs": [],
   "source": [
    "def model_training(train_df):\n",
    "    model = NearestNeighbors()\n",
    "    model.fit(train_df)\n",
    "    "
   ]
  }
 ],
 "metadata": {
  "kernelspec": {
   "display_name": "nlu",
   "language": "python",
   "name": "nlu"
  },
  "language_info": {
   "codemirror_mode": {
    "name": "ipython",
    "version": 3
   },
   "file_extension": ".py",
   "mimetype": "text/x-python",
   "name": "python",
   "nbconvert_exporter": "python",
   "pygments_lexer": "ipython3",
   "version": "3.9.13"
  }
 },
 "nbformat": 4,
 "nbformat_minor": 2
}
